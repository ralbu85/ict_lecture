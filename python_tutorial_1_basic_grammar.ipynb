{
 "cells": [
  {
   "cell_type": "markdown",
   "metadata": {},
   "source": [
    "# 1. 파이썬의 구조\n",
    "## 1.1 세미콜론을 붙이지 않는다.\n",
    "- 자바, C등의 언어는 구문이 끝날때 ; 를 붙인다. \n",
    "- 하지만 파이썬은 세미콜론을 붙이지 않고 코드 라인의 줄이 바뀔때 한구문의 끝으로 이해한다.\n",
    "\n",
    "다음을 프로그램 편집창에 넣고 실행해보자"
   ]
  },
  {
   "cell_type": "code",
   "execution_count": 1,
   "metadata": {},
   "outputs": [
    {
     "name": "stdout",
     "output_type": "stream",
     "text": [
      "Hello, World\n"
     ]
    }
   ],
   "source": [
    "print \"Hello, World\""
   ]
  },
  {
   "cell_type": "markdown",
   "metadata": {},
   "source": [
    "## 1.2 주석은 #으로 달수 있다.\n",
    "* 파이썬에서 사람만 알아볼수 있도록 작성하는 부분을 주석이라고 한다.\n",
    "* 파이썬에서 주석을 달때는 코드 맨 앞에 #을 붙여넣으면 된다\n",
    "* (주의) 한글 주석을 사용하고 싶을때에는 코드 맨 앞부분에 아래와 같은 코드를 붙여넣어야 한다.<br><br>\n",
    "\\# -\\*- coding: utf-8 -*-"
   ]
  },
  {
   "cell_type": "code",
   "execution_count": 2,
   "metadata": {},
   "outputs": [],
   "source": [
    "# 주석달기\n",
    "\n",
    "# print \"Hello, World!\"\n",
    "# 실행되지 않는 것을 알 수 있다."
   ]
  },
  {
   "cell_type": "markdown",
   "metadata": {},
   "source": [
    "## 1.3 코드블럭은 들여쓰기(탭)로 만들어낸다.\n",
    "* 코드 블럭은 특정 동작을 위해 코드가 모여있는 상태를 뜻한다.\n",
    "* 기존 java나 C문법이 코드블럭을 {브라켓}으로 묶었던 것과 달리,\n",
    "* 파이썬에서는 들여쓰기(탭키)를 통해 간단히 코드블럭을 형성한다.\n",
    "* (참고) 탭키는 스페이스 네칸과 같다.\n",
    "\n",
    "다음을 프로그램 편집창에 넣고 실행해보자."
   ]
  },
  {
   "cell_type": "code",
   "execution_count": 3,
   "metadata": {},
   "outputs": [
    {
     "name": "stdout",
     "output_type": "stream",
     "text": [
      "a=3이라고 했지?.\n",
      "맞아.\n"
     ]
    }
   ],
   "source": [
    "a=3\n",
    "if a==3:\n",
    "    print \"a=3이라고 했지?.\"\n",
    "    print \"맞아.\""
   ]
  },
  {
   "cell_type": "markdown",
   "metadata": {},
   "source": [
    "# 2. 변수\n",
    "## 2.1 변수의 의미\n",
    "* 프로그램 = 변수 + 로직\n",
    "* 컴퓨터 프로그래밍이란 결국 변수를 논리적 흐름에 따라 계산하나가는 절차를 작성하는 것이다.\n",
    "\n",
    "\n",
    "## 2.2 변수의 생성\n",
    "* 다음과 같이 왼쪽에 선언된 변수에 오른쪽에 값을 저장하는 형태로 변수를 만들수 있다.\n",
    "<img src=\"ch1-1.png\" width=\"200\"> \n",
    "* 변수를 선언함에 있어 다음의 규칙을 지켜야 한다.\n",
    "    * 대소문자 구분\n",
    "    * 영어와 숫자를 구분하여 사용\n",
    "    * 밑줄 \\(_\\)외 특수문자는 사용할 수 없다.\n",
    "    * 파이썬의 특수 키워드 (if, for, while, and, or) 등은 사용할 수 없다."
   ]
  },
  {
   "cell_type": "code",
   "execution_count": 4,
   "metadata": {},
   "outputs": [
    {
     "name": "stdout",
     "output_type": "stream",
     "text": [
      "10\n"
     ]
    }
   ],
   "source": [
    "x=10\n",
    "print(x)"
   ]
  },
  {
   "cell_type": "markdown",
   "metadata": {},
   "source": [
    "## 2.3 Java 와 Python의 차이\n",
    "* java: 정적 타이핑\n",
    "    * 변수의 타입을 선언해야만, 해당 변수를 사용할 수 있다\n",
    "    * int, float, char,...\n",
    "    * 장점: 엄격함을 유지함으로써 불필요한 버그를 사전에 방지할 수 있다.\n",
    "    * 단점: 귀찮다.\n",
    "\n",
    "* python: 동적 타이핑\n",
    "    * 변수의 타입을 선언할 필요 없다.\n",
    "    * 파이썬은 변수형을 자동으로 인식한다.\n",
    "    * 장점: 편하다\n",
    "    * 단점: 타입에러를 런타임 이후에만 파악할 수 있다."
   ]
  },
  {
   "cell_type": "markdown",
   "metadata": {},
   "source": [
    "## 2.4 변수에 담을 수 있는 데이터 형\n",
    "* 파이썬은 자동으로 변수의 데이터 형을 파악한다. (하지만 데이터형을 반드시 알고있어야 한다)\n",
    "* 파이썬에서 제공하는 변수의 종류는 다음과 같다.\n",
    "    * 숫자: int, float\n",
    "    * 문자열: str\n",
    "    * 연속형: tuple, dict, list\n",
    "    * 논리형: bool: True, False\n",
    "    * 그외: None, generator, function<br>\n",
    "    \n",
    "* 파이썬 내장함수인 type을 이용해 변수의 데이터형을 확인할 수 있다. \n",
    "\n",
    "다음을 실행해보자."
   ]
  },
  {
   "cell_type": "code",
   "execution_count": 5,
   "metadata": {},
   "outputs": [
    {
     "data": {
      "text/plain": [
       "bool"
      ]
     },
     "execution_count": 5,
     "metadata": {},
     "output_type": "execute_result"
    }
   ],
   "source": [
    "type(True)"
   ]
  },
  {
   "cell_type": "markdown",
   "metadata": {},
   "source": [
    "(주의)서로 호환되지 않는 데이터형끼리의 연산은 허용하지 않는다. 다음을 실행해보자."
   ]
  },
  {
   "cell_type": "markdown",
   "metadata": {},
   "source": [
    "\"foo\"+2\\"
   ]
  },
  {
   "cell_type": "markdown",
   "metadata": {},
   "source": [
    "## 2.5 변수에 변수 할당하기\n",
    "* 변수에 다른 변수를 할당할 수도 있다.\n",
    "\n",
    "다음을 실행해보자."
   ]
  },
  {
   "cell_type": "code",
   "execution_count": 6,
   "metadata": {},
   "outputs": [
    {
     "name": "stdout",
     "output_type": "stream",
     "text": [
      "10\n"
     ]
    }
   ],
   "source": [
    "x=10\n",
    "y=x #y라는 새 변수에 기존의 x를 할당\n",
    "print(y)"
   ]
  },
  {
   "cell_type": "markdown",
   "metadata": {},
   "source": [
    "# 3. 변수와 연산자\n",
    "## 3.1 숫자형의 사칙연산\n",
    "숫자에 대하여 사칙연산이 가능하다. 자바나 C와 마찬가지로 파이썬에서도 곱하기, 빼기, 곱하기, 나누기(+,-,\\*,\\/)등의 사칙연산을 제공한다. 다음은 사칙연산의 간단한 예시이다."
   ]
  },
  {
   "cell_type": "code",
   "execution_count": 4,
   "metadata": {},
   "outputs": [],
   "source": [
    "a=3\n",
    "b=4"
   ]
  },
  {
   "cell_type": "code",
   "execution_count": 6,
   "metadata": {},
   "outputs": [
    {
     "data": {
      "text/plain": [
       "7"
      ]
     },
     "execution_count": 6,
     "metadata": {},
     "output_type": "execute_result"
    }
   ],
   "source": [
    "a+b # 덧셈"
   ]
  },
  {
   "cell_type": "code",
   "execution_count": 9,
   "metadata": {},
   "outputs": [
    {
     "data": {
      "text/plain": [
       "12"
      ]
     },
     "execution_count": 9,
     "metadata": {},
     "output_type": "execute_result"
    }
   ],
   "source": [
    "a*b # 곱셈"
   ]
  },
  {
   "cell_type": "code",
   "execution_count": 11,
   "metadata": {},
   "outputs": [
    {
     "data": {
      "text/plain": [
       "0"
      ]
     },
     "execution_count": 11,
     "metadata": {},
     "output_type": "execute_result"
    }
   ],
   "source": [
    "a/b # 나누기"
   ]
  },
  {
   "cell_type": "code",
   "execution_count": 9,
   "metadata": {},
   "outputs": [
    {
     "data": {
      "text/plain": [
       "81"
      ]
     },
     "execution_count": 9,
     "metadata": {},
     "output_type": "execute_result"
    }
   ],
   "source": [
    "a**b # 제곱"
   ]
  },
  {
   "cell_type": "code",
   "execution_count": 8,
   "metadata": {},
   "outputs": [
    {
     "data": {
      "text/plain": [
       "1"
      ]
     },
     "execution_count": 8,
     "metadata": {},
     "output_type": "execute_result"
    }
   ],
   "source": [
    "7%2 # 나머지"
   ]
  },
  {
   "cell_type": "code",
   "execution_count": 7,
   "metadata": {},
   "outputs": [
    {
     "data": {
      "text/plain": [
       "170"
      ]
     },
     "execution_count": 7,
     "metadata": {},
     "output_type": "execute_result"
    }
   ],
   "source": [
    "(35-1)*(2+3) # 괄호를 통해 우선순위를 정할 수 있다."
   ]
  },
  {
   "cell_type": "markdown",
   "metadata": {},
   "source": [
    "## 3.2 문자열\n",
    "* 파이썬의 강력한 장점 중 하나는 문자열 변수도 쉽게 다룰 수 있다는 점이다.\n",
    "* 파이썬에서 문자열을 만들때에는 큰따옴표(\") 혹은 작은따옴표 (') 로 감싸면 된다.\n",
    "* 다음은 모두 문자열의 예시이다."
   ]
  },
  {
   "cell_type": "markdown",
   "metadata": {},
   "source": [
    "\"a\"<br>\n",
    "'123'<br>\n",
    "\"Hello World!\""
   ]
  },
  {
   "cell_type": "code",
   "execution_count": 13,
   "metadata": {},
   "outputs": [
    {
     "name": "stdout",
     "output_type": "stream",
     "text": [
      "Python's favorite foood is perl\n"
     ]
    }
   ],
   "source": [
    "#(참고)큰 따옴표 안에 들어있는 작은 따옴표는 문자열 기호로 인식되지 않는다\n",
    "a=\"Python's favorite foood is perl\"\n",
    "print(a)"
   ]
  },
  {
   "cell_type": "code",
   "execution_count": 14,
   "metadata": {},
   "outputs": [
    {
     "name": "stdout",
     "output_type": "stream",
     "text": [
      "\"Python is very easy.\" It's nice, also.\n"
     ]
    }
   ],
   "source": [
    "#(참고)백슬래시를 이용하여 작은따옴표와 큰따옴표 모두 문자열에 포함시킬 수 있다.\n",
    "a=\"\\\"Python is very easy.\\\" It\\'s nice, also.\"\n",
    "print(a)"
   ]
  },
  {
   "cell_type": "markdown",
   "metadata": {},
   "source": [
    "### 3.2.1 두 문자열 합치기\n",
    "두 문자열을 합치기 위해 + 연산자를 사용한다."
   ]
  },
  {
   "cell_type": "code",
   "execution_count": 15,
   "metadata": {},
   "outputs": [
    {
     "name": "stdout",
     "output_type": "stream",
     "text": [
      "Hello World\n"
     ]
    }
   ],
   "source": [
    "a=\"Hello\"\n",
    "b=\" World\"\n",
    "c=a+b\n",
    "print(c)"
   ]
  },
  {
   "cell_type": "markdown",
   "metadata": {},
   "source": [
    "### 3.2.2 문자열 곱하기\n",
    "문자열 뒤에 곱하기(\\*)를 붙이면 같은 문자열을 반복하여 붙일 수 있다."
   ]
  },
  {
   "cell_type": "code",
   "execution_count": 16,
   "metadata": {},
   "outputs": [
    {
     "name": "stdout",
     "output_type": "stream",
     "text": [
      "==================================================\n",
      "Hey\n",
      "==================================================\n"
     ]
    }
   ],
   "source": [
    "print(\"=\"*50)\n",
    "print(\"Hey\")\n",
    "print(\"=\"*50)"
   ]
  },
  {
   "cell_type": "markdown",
   "metadata": {},
   "source": [
    "### 3.2.3. 문자열 내장 함수\n",
    "파이썬의 모든 변수는 객체이다.(여러분은 객체지향 프로그래밍을 배웠다)\n",
    "객체는 모두 자신만의 메소드를 갖게되는데 (이부분이 이해가 되지 않아도 좋다.)\n",
    "이를 이용하여 다양한 문자열 처리를 할 수 있다. "
   ]
  },
  {
   "cell_type": "code",
   "execution_count": 17,
   "metadata": {},
   "outputs": [
    {
     "data": {
      "text/plain": [
       "2"
      ]
     },
     "execution_count": 17,
     "metadata": {},
     "output_type": "execute_result"
    }
   ],
   "source": [
    "# 문자 개수 세기\n",
    "a=\"hobby\"\n",
    "a.count('b')"
   ]
  },
  {
   "cell_type": "code",
   "execution_count": 18,
   "metadata": {},
   "outputs": [
    {
     "data": {
      "text/plain": [
       "7"
      ]
     },
     "execution_count": 18,
     "metadata": {},
     "output_type": "execute_result"
    }
   ],
   "source": [
    "# 문자 위치 알려주기\n",
    "a=\"Python is super easy right?\"\n",
    "a.find('i') ## 처음 나온 위치만 반환한다.(참고)"
   ]
  },
  {
   "cell_type": "code",
   "execution_count": 19,
   "metadata": {},
   "outputs": [
    {
     "data": {
      "text/plain": [
       "'hi'"
      ]
     },
     "execution_count": 19,
     "metadata": {},
     "output_type": "execute_result"
    }
   ],
   "source": [
    "# 소문자를 대문자로 바꾸기\n",
    "a=\"HI\"\n",
    "a.lower()"
   ]
  },
  {
   "cell_type": "code",
   "execution_count": 20,
   "metadata": {},
   "outputs": [
    {
     "data": {
      "text/plain": [
       "'HI'"
      ]
     },
     "execution_count": 20,
     "metadata": {},
     "output_type": "execute_result"
    }
   ],
   "source": [
    "# 소문자를 대문자로 바꾸기\n",
    "a='hi'\n",
    "a.upper()"
   ]
  },
  {
   "cell_type": "code",
   "execution_count": 21,
   "metadata": {},
   "outputs": [
    {
     "data": {
      "text/plain": [
       "'hi'"
      ]
     },
     "execution_count": 21,
     "metadata": {},
     "output_type": "execute_result"
    }
   ],
   "source": [
    "# 공백 지우기\n",
    "a=' hi '\n",
    "a.strip()"
   ]
  },
  {
   "cell_type": "code",
   "execution_count": 22,
   "metadata": {},
   "outputs": [
    {
     "data": {
      "text/plain": [
       "'My leg is too short'"
      ]
     },
     "execution_count": 22,
     "metadata": {},
     "output_type": "execute_result"
    }
   ],
   "source": [
    "# 문자열 치환\n",
    "a='life is too short'\n",
    "a.replace('life','My leg')"
   ]
  },
  {
   "cell_type": "markdown",
   "metadata": {},
   "source": [
    "### 3.2.3. 문자열 포맷팅\n",
    "문자열에서 또 하나 알아야 할 것으로는 문자열 포매팅(Formatting)이 있다. 이것을 공부하기에 앞서 다음과 같은 문자열을 출력하는 프로그램을 작성했다고 가정해 보자.\n",
    "\n",
    "\"현재 온도는 18도입니다.\"\n",
    "\n",
    "시간이 지나서 20도가 되면 아래와 같은 문장을 출력한다.\n",
    "\n",
    "\"현재 온도는 20도입니다\"\n",
    "\n",
    "위의 두 문자열은 모두 같은데 20이라는 숫자와 18이라는 숫자만 다르다. 이렇게 문자열 내의 특정한 값을 바꿔야 할 경우가 있을 때 이것을 가능하게 해주는 것이 바로 문자열 포매팅 기법이다.\n",
    "\n",
    "문자열 포맷팅은 데이터베이스 쿼리문 조작시에 자주 쓰일것이니 지금 숙지해 놓자!"
   ]
  },
  {
   "cell_type": "code",
   "execution_count": 23,
   "metadata": {},
   "outputs": [
    {
     "name": "stdout",
     "output_type": "stream",
     "text": [
      "I eat 3 apples.\n"
     ]
    }
   ],
   "source": [
    "# 숫자 바로 대입\n",
    "# 숫자를 문자열 내에 대입하기 위해서는 문자열 앞에 %d를 선언하고,\n",
    "# 문자열 뒤에 %를 사용한다.\n",
    "print \"I eat %d apples.\" % 3"
   ]
  },
  {
   "cell_type": "code",
   "execution_count": 24,
   "metadata": {},
   "outputs": [
    {
     "name": "stdout",
     "output_type": "stream",
     "text": [
      "I eat five apples.\n"
     ]
    }
   ],
   "source": [
    "# 문자열 바로 대입\n",
    "# 문자열을 문자열 내에 대입하기 위해서는 문자열 앞에 %s를 선언하고\n",
    "# 문자열 뒤에 %를 사용한다.\n",
    "print \"I eat %s apples.\" % \"five\""
   ]
  },
  {
   "cell_type": "code",
   "execution_count": 25,
   "metadata": {},
   "outputs": [
    {
     "name": "stdout",
     "output_type": "stream",
     "text": [
      "I eat 3 apples.\n"
     ]
    }
   ],
   "source": [
    "# 변수를 이용한 대입\n",
    "number=3\n",
    "print \"I eat %d apples.\" % number"
   ]
  },
  {
   "cell_type": "code",
   "execution_count": 26,
   "metadata": {},
   "outputs": [
    {
     "name": "stdout",
     "output_type": "stream",
     "text": [
      "I ate 10 apples. so I was sick for three days\n"
     ]
    }
   ],
   "source": [
    "# 여러개의 변수를 차례대로 대입\n",
    "number=10\n",
    "day=\"three\"\n",
    "print \"I ate %d apples. so I was sick for %s days\" % (number, day)"
   ]
  },
  {
   "cell_type": "markdown",
   "metadata": {},
   "source": [
    "## 3.3. 부울 자료형\n",
    "* 부울(bool) 자료형은 참과 거짓만을 나타내는 데이터형이다. \n",
    "* True, False 오직 2가지 값만을 가질 수 있다.\n",
    "* 부울 자료형은 향후 루프와 조건문에서 자주 나오게 되므로 눈여겨 보자.\n",
    "\n",
    "다음처럼 부울 자료형을 변수에 저장할 수 있다."
   ]
  },
  {
   "cell_type": "code",
   "execution_count": 27,
   "metadata": {},
   "outputs": [],
   "source": [
    "a=True\n",
    "b=False"
   ]
  },
  {
   "cell_type": "markdown",
   "metadata": {},
   "source": [
    "### 3.3.1. 비교 연산자\n",
    "* 부울 자료형은 주로 비교 연산자의 결과로 활용되는 경우가 많다.\n",
    "* 조건연산자란 어떠한 조건이 참인지 거짓인지 판별할 수 있게 질문을 던지는 연산자이다.\n",
    "* (==, \\>, <) 연산자는 두 숫자의 크기 비교를 통해 답을 한다.\n",
    "        == (두 값이 같은가? 참거짓으로 답하라)\n",
    "        > (왼쪽이 오른쪽보다 큰가?, 참거짓으로 답하라)\n",
    "        < (왼쪽이 오른쪽보다 작은가? 참거짓으로 답하라)"
   ]
  },
  {
   "cell_type": "code",
   "execution_count": 28,
   "metadata": {},
   "outputs": [
    {
     "data": {
      "text/plain": [
       "True"
      ]
     },
     "execution_count": 28,
     "metadata": {},
     "output_type": "execute_result"
    }
   ],
   "source": [
    "a=1\n",
    "b=1\n",
    "a==b"
   ]
  },
  {
   "cell_type": "code",
   "execution_count": 29,
   "metadata": {},
   "outputs": [
    {
     "data": {
      "text/plain": [
       "False"
      ]
     },
     "execution_count": 29,
     "metadata": {},
     "output_type": "execute_result"
    }
   ],
   "source": [
    "a=7\n",
    "b=1\n",
    "a<b"
   ]
  },
  {
   "cell_type": "markdown",
   "metadata": {},
   "source": [
    "### 3.3.2. 논리 연산자\n",
    "* 부울 자료형은 논리연산자의 결과로 활용되는 경우도 있다.\n",
    "* 두 조건이 모두 True인지 묻는경우 (and)\n",
    "* 두 조건중에 하나라도 True인지 몯는 경우 (or)"
   ]
  },
  {
   "cell_type": "code",
   "execution_count": 30,
   "metadata": {},
   "outputs": [
    {
     "data": {
      "text/plain": [
       "False"
      ]
     },
     "execution_count": 30,
     "metadata": {},
     "output_type": "execute_result"
    }
   ],
   "source": [
    "a=3\n",
    "b=7\n",
    "c=3\n",
    "a == c and b == c"
   ]
  },
  {
   "cell_type": "code",
   "execution_count": 31,
   "metadata": {},
   "outputs": [
    {
     "data": {
      "text/plain": [
       "True"
      ]
     },
     "execution_count": 31,
     "metadata": {},
     "output_type": "execute_result"
    }
   ],
   "source": [
    "a == c or b < c"
   ]
  }
 ],
 "metadata": {
  "kernelspec": {
   "display_name": "Python 3",
   "language": "python",
   "name": "python3"
  },
  "language_info": {
   "codemirror_mode": {
    "name": "ipython",
    "version": 3
   },
   "file_extension": ".py",
   "mimetype": "text/x-python",
   "name": "python",
   "nbconvert_exporter": "python",
   "pygments_lexer": "ipython3",
   "version": "3.6.5"
  }
 },
 "nbformat": 4,
 "nbformat_minor": 2
}
