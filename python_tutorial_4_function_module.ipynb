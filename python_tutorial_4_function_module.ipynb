{
 "cells": [
  {
   "cell_type": "markdown",
   "metadata": {},
   "source": [
    "# 1. 함수\n",
    "<p> 프로그래밍을 하다 보면 같은 내용을 반복해서 작성하고 있는 자신을 발견할 것이다. 이때가 바로 함수가 필요한 부분이다. 함수를 만드는 방법은 다음과 같다.</p>\n",
    "    * 반복적으로 사용되는 가치 있는 부분을 한 뭉치로 묶는다.\n",
    "    * 어떤 입력값을 주었을때 어떤 결과값을 돌려받게 만든다.\n",
    "<p> 함수를 사용하는 또 다른 이유는 자신이 만든 프로그램을 함수화하면 프로그램의 흐름을 일목요연하게 볼 수 있기 때문이다. 마치 공장에서 원재료가 여러 공정을 거쳐 하나의 상품이되는 것처럼 프로그램에서도 입력한 값이 여러 함수들을 거치면서 원하는 결과값을 내는 것을 볼 수 있다. 이렇게 되면 프로그램의 흐름도 잘 파악할 수 있고 에러가 어디에서 나는지도 금방 알아차릴 수 있다. 함수를 잘 이용하고 함수를 적절하게 만들 줄 아는 사람이 능력 있는 프로그래머이다.</p>"
   ]
  },
  {
   "cell_type": "markdown",
   "metadata": {},
   "source": [
    "### 함수의 정의\n",
    "<p> 함수는 다음과 같이 정의한다.</p>\n",
    "<blockquote>\n",
    "    def 함수명(입력 변수):<br>    \n",
    "    &emsp;명령문1<br>\n",
    "    &emsp;명령문2<br>\n",
    "    &emsp;return 출력 변수\n",
    "</blockquote>\n",
    "<p> 두 변수의 합을 구하는 함수를 다음과 같이 정의할 수 있다.</p>"
   ]
  },
  {
   "cell_type": "code",
   "execution_count": 1,
   "metadata": {},
   "outputs": [],
   "source": [
    "def our_sum(a,b):\n",
    "    return a+b;"
   ]
  },
  {
   "cell_type": "markdown",
   "metadata": {},
   "source": [
    "<p>이렇게 정의된 함수를 직접 사용해 보자.</p>"
   ]
  },
  {
   "cell_type": "code",
   "execution_count": 2,
   "metadata": {},
   "outputs": [
    {
     "name": "stdout",
     "output_type": "stream",
     "text": [
      "7\n"
     ]
    }
   ],
   "source": [
    "alpha=3\n",
    "beta=4\n",
    "c=our_sum(alpha,beta)\n",
    "print c"
   ]
  },
  {
   "cell_type": "markdown",
   "metadata": {},
   "source": [
    "<p>결과값이 없는 함수도 물론 사용할 수 있다.</p>"
   ]
  },
  {
   "cell_type": "code",
   "execution_count": 3,
   "metadata": {},
   "outputs": [],
   "source": [
    "def sum_print(a,b):\n",
    "    print \"%d + %d is %d\" % (a,b,a+b)    "
   ]
  },
  {
   "cell_type": "code",
   "execution_count": 4,
   "metadata": {},
   "outputs": [
    {
     "name": "stdout",
     "output_type": "stream",
     "text": [
      "3 + 4 is 7\n",
      "None\n"
     ]
    }
   ],
   "source": [
    "alpha=3\n",
    "beta=4\n",
    "c=sum_print(alpha,beta)\n",
    "print c "
   ]
  },
  {
   "cell_type": "markdown",
   "metadata": {},
   "source": [
    "### 함수에 사용될 수 있는 다채로운 입력값\n",
    "<p>함수에는 list, tuple, dictionary등 다양한 형태의 입력값이 사용될 수 있다.java나 c와 달리 파이썬에서는 입력값의 형태를 미리 선언할 필요가 없다. 하지만 함수의 사용자는 이를 잘 모를 수 있으니 반드시 입력형태에 대해 명확히 주석으로 써놓을 필요가 있다.</p>"
   ]
  },
  {
   "cell_type": "markdown",
   "metadata": {},
   "source": [
    "<p>다음 함수는 list형 입력값을 사용하는 함수이다.</p>"
   ]
  },
  {
   "cell_type": "code",
   "execution_count": 5,
   "metadata": {},
   "outputs": [],
   "source": [
    "def sum_list(a): #임의의 리스트형 변수가 들어오면, 해당 함수는 리스트 내의 모든 값의 합을 구하여 출력값을 반환한다.\n",
    "    result=0\n",
    "    for i in a:\n",
    "        result=result+i\n",
    "    return result    "
   ]
  },
  {
   "cell_type": "code",
   "execution_count": 6,
   "metadata": {},
   "outputs": [
    {
     "data": {
      "text/plain": [
       "25"
      ]
     },
     "execution_count": 6,
     "metadata": {},
     "output_type": "execute_result"
    }
   ],
   "source": [
    "inputList=[1,3,5,7,9] \n",
    "output=sum_list(inputList)\n",
    "output"
   ]
  },
  {
   "cell_type": "markdown",
   "metadata": {},
   "source": [
    "<p> 마찬가지로 dictionary에 대해서도 함수를 사용할 수 있다.</p>"
   ]
  },
  {
   "cell_type": "code",
   "execution_count": 7,
   "metadata": {},
   "outputs": [],
   "source": [
    "dict={'a':1, 'b':2, 'c':3, 'd':4}"
   ]
  },
  {
   "cell_type": "markdown",
   "metadata": {},
   "source": [
    "<p> 위와 같은 딕셔너리가 있다고 했을때, 딕셔너리의 각 값을 1씩 증가시키는 함수를 다음과 같이 작성할 수 있다. 다음 코드를 음미해보라 </p>"
   ]
  },
  {
   "cell_type": "code",
   "execution_count": 8,
   "metadata": {},
   "outputs": [],
   "source": [
    "def add_dict(d):\n",
    "    for i in d.keys(): #d.keys()가 어떤 함수였는지 생각해보라.\n",
    "        d[i]=d[i]+1\n",
    "    return d"
   ]
  },
  {
   "cell_type": "code",
   "execution_count": 9,
   "metadata": {
    "scrolled": true
   },
   "outputs": [
    {
     "data": {
      "text/plain": [
       "{'a': 2, 'b': 3, 'c': 4, 'd': 5}"
      ]
     },
     "execution_count": 9,
     "metadata": {},
     "output_type": "execute_result"
    }
   ],
   "source": [
    "result=add_dict(dict)\n",
    "result"
   ]
  },
  {
   "cell_type": "markdown",
   "metadata": {},
   "source": [
    "### 입력값이 몇개인지 모를때\n",
    "<p> 입력 변수가 몇개가 올지 모르는 경우가 있다. 이때에는 입력 인수에 *표를 붙이는 방식으로 해결할 수 있다. 파이썬 인터프리터는 사용자가 입력한 여러개의 입력 변수를 묶어서 하나의 tuple로 간주한다. 다음의 예시를 살펴보자. </p>"
   ]
  },
  {
   "cell_type": "code",
   "execution_count": 10,
   "metadata": {},
   "outputs": [],
   "source": [
    "def sum_many(*args):\n",
    "    sum=0\n",
    "    for i in args:\n",
    "        sum=sum+i        \n",
    "    return sum"
   ]
  },
  {
   "cell_type": "code",
   "execution_count": 11,
   "metadata": {},
   "outputs": [
    {
     "data": {
      "text/plain": [
       "36"
      ]
     },
     "execution_count": 11,
     "metadata": {},
     "output_type": "execute_result"
    }
   ],
   "source": [
    "result=sum_many(1,3,5,7,9,11)\n",
    "result"
   ]
  },
  {
   "cell_type": "markdown",
   "metadata": {},
   "source": [
    "### 함수의 출력값이 여러개일때\n",
    "<p> 함수의 출력값을 여러개로 정해야 할 경우가 존재한다. 하지만 파이썬에서 return에 출력할 수 있는 변수의 개수는 \"한개\"이다. 따라서 여러개의 값을 함수로부터 출력하고 싶다면 결과값을 묶어 list나 tuple형태로 처리해야 한다. </p>\n",
    "<p> 다음 함수를 살펴보자. </p>"
   ]
  },
  {
   "cell_type": "code",
   "execution_count": 12,
   "metadata": {},
   "outputs": [],
   "source": [
    "def sumprod(a,b):\n",
    "    return a+b,a*b"
   ]
  },
  {
   "cell_type": "code",
   "execution_count": 13,
   "metadata": {},
   "outputs": [
    {
     "data": {
      "text/plain": [
       "(7, 12)"
      ]
     },
     "execution_count": 13,
     "metadata": {},
     "output_type": "execute_result"
    }
   ],
   "source": [
    "c=3\n",
    "d=4\n",
    "result=sumprod(3,4)\n",
    "result"
   ]
  },
  {
   "cell_type": "markdown",
   "metadata": {},
   "source": [
    "<p> 위의 예시에서 볼 수 있듯이 return 뒤에 두 입력값의 합과 곱을 동시에 리턴할 경우 출력값이 tuple이 되는 것을 볼 수 있다. </p>"
   ]
  },
  {
   "cell_type": "markdown",
   "metadata": {},
   "source": [
    "### 입력 변수에 초기값 미리 설정\n",
    "<p> 함수의 입력값 중 일부를 초기값으로 설정하고, 사용자가 그 값을 입력하지 않은 경우 자동으로 초기값이 실행되게 할 수 있다. </p>"
   ]
  },
  {
   "cell_type": "code",
   "execution_count": 14,
   "metadata": {},
   "outputs": [],
   "source": [
    "def say_myself(name, old, man=True): \n",
    "    print(\"나의 이름은 %s 입니다.\" % name) \n",
    "    print(\"나이는 %d살입니다.\" % old) \n",
    "    if man: \n",
    "        print(\"남자입니다.\")\n",
    "    else: \n",
    "        print(\"여자입니다.\")"
   ]
  },
  {
   "cell_type": "code",
   "execution_count": 15,
   "metadata": {
    "scrolled": true
   },
   "outputs": [
    {
     "name": "stdout",
     "output_type": "stream",
     "text": [
      "나의 이름은 jihwan 입니다.\n",
      "나이는 26살입니다.\n",
      "남자입니다.\n"
     ]
    }
   ],
   "source": [
    "say_myself(\"jihwan\",26)"
   ]
  },
  {
   "cell_type": "markdown",
   "metadata": {},
   "source": [
    "<p> 위에서 볼 수 있듯이, 세번째 입력변수를 입력하지 않았지만 기본값인 True가 작동하면서 함수가 실행되었다. </p>"
   ]
  },
  {
   "cell_type": "code",
   "execution_count": 16,
   "metadata": {
    "scrolled": true
   },
   "outputs": [
    {
     "name": "stdout",
     "output_type": "stream",
     "text": [
      "나의 이름은 jiyeon 입니다.\n",
      "나이는 26살입니다.\n",
      "여자입니다.\n"
     ]
    }
   ],
   "source": [
    "say_myself(\"jiyeon\", 26, False)"
   ]
  },
  {
   "cell_type": "markdown",
   "metadata": {},
   "source": [
    "# 2. 모듈\n",
    "<p>모듈이란 함수나 변수 또는 클래스 들을 모아 놓은 파일이다. 모듈은 다른 파이썬 프로그램에서 불러와 사용할수 있게끔 만들어진 파이썬 파일이라고도 할 수 있다. 우리는 파이썬으로 프로그래밍을 할 때 굉장히 많은 모듈을 사용한다. 다른 사람들이 이미 만들어 놓은 모듈을 사용할 수도 있고 우리가 직접 만들어서 사용할 수도 있다. 여기서는 모듈을 어떻게 만들고 사용할 수 있는지 알아보겠다.</p>"
   ]
  },
  {
   "cell_type": "markdown",
   "metadata": {},
   "source": [
    "### (남이 만든) 모듈 가져오기\n",
    "<p> 파이썬 세계에는 전세계의 다른 프로그래머들이 만들어 놓은 수많은 모듈들이 존재한다. 이 중 특정한 모듈이나 모듈안의 함수를 이용하고 싶다면, 우선 해당 모듈을 본인의 컴퓨터에 설치해야 한다 (Anaconda도 자주 사용되는 모듈들의 모음). 설치가 끝나면, 본인이 작성하는 프로그램 안으로 해당 모듈을 끌어들여와야 하는데, 파이썬에서는 import문을 쓰면 된다.파이썬의 내장 모듈인 math를 가져와보자.</p>"
   ]
  },
  {
   "cell_type": "code",
   "execution_count": 17,
   "metadata": {},
   "outputs": [],
   "source": [
    "import math"
   ]
  },
  {
   "cell_type": "markdown",
   "metadata": {},
   "source": [
    "<p> 이렇게 하면 math내에 저장되어 있는 변수와 함수들을 사용할 수 있게 된다. help(math) 명령어를 통해 math내에 저장되어 있는 많은 함수들을 확인할 수 있다 </p>"
   ]
  },
  {
   "cell_type": "code",
   "execution_count": 18,
   "metadata": {},
   "outputs": [
    {
     "data": {
      "text/plain": [
       "3.141592653589793"
      ]
     },
     "execution_count": 18,
     "metadata": {},
     "output_type": "execute_result"
    }
   ],
   "source": [
    "math.pi ## 모듈내에 저장되어 있는 변수"
   ]
  },
  {
   "cell_type": "code",
   "execution_count": 20,
   "metadata": {
    "scrolled": true
   },
   "outputs": [
    {
     "data": {
      "text/plain": [
       "1.7320508075688772"
      ]
     },
     "execution_count": 20,
     "metadata": {},
     "output_type": "execute_result"
    }
   ],
   "source": [
    "math.sqrt(3) ## 모듈내의 함수, 바로 이용 가능"
   ]
  },
  {
   "cell_type": "markdown",
   "metadata": {},
   "source": [
    "### (남이 만든) 모듈에서 특정함수만 가져오기\n",
    "<p> 모듈을 가져올때 모든 모듈을 다 가져오면, 내가 만든 함수와 이름이 겹치는 등 많은 혼란을 초래할 수 있다. 이같은 혼선을 피하기 위해, 다른 모듈에서 내가 사용하고 싶은 함수만 가져게 할 수 있다.</p> "
   ]
  },
  {
   "cell_type": "code",
   "execution_count": 21,
   "metadata": {
    "scrolled": true
   },
   "outputs": [
    {
     "data": {
      "text/plain": [
       "1.7320508075688772"
      ]
     },
     "execution_count": 21,
     "metadata": {},
     "output_type": "execute_result"
    }
   ],
   "source": [
    "from math import pi, sqrt #math 함수로부터 pi와 sqrt만 가져오기\n",
    "sqrt(3)"
   ]
  },
  {
   "cell_type": "markdown",
   "metadata": {},
   "source": [
    "### (남이 만든) 모듈의 이름을 다른 이름으로 지정해 놓고 사용하기\n",
    "<p> import한 모듈을 다른 이름으로 지정하고 이를 불러내어 사용하는 방법도, 혼란을 줄일 수 있는 방법 중 하나이다.</p> "
   ]
  },
  {
   "cell_type": "code",
   "execution_count": 22,
   "metadata": {},
   "outputs": [],
   "source": [
    "import math as m"
   ]
  },
  {
   "cell_type": "code",
   "execution_count": 23,
   "metadata": {},
   "outputs": [
    {
     "data": {
      "text/plain": [
       "3.141592653589793"
      ]
     },
     "execution_count": 23,
     "metadata": {},
     "output_type": "execute_result"
    }
   ],
   "source": [
    "m.pi"
   ]
  },
  {
   "cell_type": "markdown",
   "metadata": {},
   "source": [
    "<p> 위와 같이 m이라는 이름으로 math함수를 사용하겠다고 선언했으며, .을 이용하여 m 모듈 내의 함수들을 사용할 수 있다. </p>"
   ]
  },
  {
   "cell_type": "markdown",
   "metadata": {},
   "source": [
    "### 나만의 모듈 만들기\n",
    "<p> 마찬가지로 여러분이 만든 모듈을 import 하여 사용할 수 있다. 우선 여러분의 작업 폴더 내에서 module1이라는 내부 모듈을 만들어보자.</p>"
   ]
  },
  {
   "cell_type": "code",
   "execution_count": 24,
   "metadata": {},
   "outputs": [],
   "source": [
    "# module1.py\n",
    "def m_sum(a, b):\n",
    "    return a + b\n",
    "\n",
    "def m_prod(a,b):\n",
    "    return a*b"
   ]
  },
  {
   "cell_type": "markdown",
   "metadata": {},
   "source": [
    "<p> 그리고 이를 다른 파일에서 불러와서 사용하면 된다.</p>"
   ]
  },
  {
   "cell_type": "raw",
   "metadata": {},
   "source": [
    "# main.py\n",
    "import module1 as m\n",
    "m.m_sum(1,2)\n",
    "m.m_prod(1,3)"
   ]
  },
  {
   "cell_type": "markdown",
   "metadata": {},
   "source": [
    "<p> 일단 같은 폴더 안에 파일이 있어야 사용할 수 있음에 주의하라. 더 자세한 모듈의 유지 및 보수 방법은 차후에 설명하도록 한다.</p>"
   ]
  }
 ],
 "metadata": {
  "kernelspec": {
   "display_name": "Python 2",
   "language": "python",
   "name": "python2"
  },
  "language_info": {
   "codemirror_mode": {
    "name": "ipython",
    "version": 2
   },
   "file_extension": ".py",
   "mimetype": "text/x-python",
   "name": "python",
   "nbconvert_exporter": "python",
   "pygments_lexer": "ipython2",
   "version": "2.7.14"
  }
 },
 "nbformat": 4,
 "nbformat_minor": 2
}
