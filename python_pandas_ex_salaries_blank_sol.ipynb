{
 "cells": [
  {
   "cell_type": "markdown",
   "metadata": {},
   "source": [
    "# SF Salaries Exercise\n",
    "\n",
    "SF Salaries Dataset from Kaggle (https://www.kaggle.com/kaggle/sf-salaries)"
   ]
  },
  {
   "cell_type": "markdown",
   "metadata": {},
   "source": [
    "Import pandas as pd."
   ]
  },
  {
   "cell_type": "code",
   "execution_count": 1,
   "metadata": {},
   "outputs": [],
   "source": [
    "import pandas as pd"
   ]
  },
  {
   "cell_type": "markdown",
   "metadata": {},
   "source": [
    "Read Salaries.csv as a dataframe called sal."
   ]
  },
  {
   "cell_type": "code",
   "execution_count": 2,
   "metadata": {},
   "outputs": [],
   "source": [
    "df=pd.read_csv('salary.csv')"
   ]
  },
  {
   "cell_type": "markdown",
   "metadata": {},
   "source": [
    "Check the head of the DataFrame."
   ]
  },
  {
   "cell_type": "code",
   "execution_count": 4,
   "metadata": {},
   "outputs": [
    {
     "data": {
      "text/plain": [
       "Index(['Id', 'EmployeeName', 'JobTitle', 'BasePay', 'OvertimePay', 'OtherPay',\n",
       "       'Benefits', 'TotalPay', 'TotalPayBenefits', 'Year', 'Notes', 'Agency',\n",
       "       'Status'],\n",
       "      dtype='object')"
      ]
     },
     "execution_count": 4,
     "metadata": {},
     "output_type": "execute_result"
    }
   ],
   "source": [
    "df.columns"
   ]
  },
  {
   "cell_type": "markdown",
   "metadata": {},
   "source": [
    "Use the .info() method to find out how many entries there are."
   ]
  },
  {
   "cell_type": "code",
   "execution_count": 8,
   "metadata": {},
   "outputs": [
    {
     "name": "stdout",
     "output_type": "stream",
     "text": [
      "<class 'pandas.core.frame.DataFrame'>\n",
      "RangeIndex: 25344 entries, 0 to 25343\n",
      "Data columns (total 13 columns):\n",
      "Id                  25344 non-null int64\n",
      "EmployeeName        25344 non-null object\n",
      "JobTitle            25344 non-null object\n",
      "BasePay             25344 non-null float64\n",
      "OvertimePay         25344 non-null float64\n",
      "OtherPay            25344 non-null float64\n",
      "Benefits            0 non-null float64\n",
      "TotalPay            25344 non-null float64\n",
      "TotalPayBenefits    25343 non-null float64\n",
      "Year                25343 non-null float64\n",
      "Notes               0 non-null float64\n",
      "Agency              25343 non-null object\n",
      "Status              0 non-null float64\n",
      "dtypes: float64(9), int64(1), object(3)\n",
      "memory usage: 2.5+ MB\n"
     ]
    }
   ],
   "source": [
    "df.info()"
   ]
  },
  {
   "cell_type": "markdown",
   "metadata": {},
   "source": [
    "What is the average BasePay ?"
   ]
  },
  {
   "cell_type": "code",
   "execution_count": 13,
   "metadata": {},
   "outputs": [
    {
     "data": {
      "text/plain": [
       "83758.71310724432"
      ]
     },
     "execution_count": 13,
     "metadata": {},
     "output_type": "execute_result"
    }
   ],
   "source": [
    "df['BasePay'].mean()"
   ]
  },
  {
   "cell_type": "code",
   "execution_count": 6,
   "metadata": {},
   "outputs": [
    {
     "data": {
      "text/plain": [
       "83758.71310724432"
      ]
     },
     "execution_count": 6,
     "metadata": {},
     "output_type": "execute_result"
    }
   ],
   "source": [
    "import numpy as np\n",
    "np.mean(df['BasePay'])"
   ]
  },
  {
   "cell_type": "code",
   "execution_count": 11,
   "metadata": {},
   "outputs": [
    {
     "data": {
      "text/plain": [
       "BasePay    83758.713107\n",
       "dtype: float64"
      ]
     },
     "execution_count": 11,
     "metadata": {},
     "output_type": "execute_result"
    }
   ],
   "source": [
    "df[['BasePay']].apply(np.mean)"
   ]
  },
  {
   "cell_type": "markdown",
   "metadata": {},
   "source": [
    "What is the highest amount of OvertimePay in the dataset ?"
   ]
  },
  {
   "cell_type": "code",
   "execution_count": 14,
   "metadata": {},
   "outputs": [
    {
     "data": {
      "text/plain": [
       "245131.88"
      ]
     },
     "execution_count": 14,
     "metadata": {},
     "output_type": "execute_result"
    }
   ],
   "source": [
    "df['OvertimePay'].max()"
   ]
  },
  {
   "cell_type": "code",
   "execution_count": 12,
   "metadata": {},
   "outputs": [
    {
     "data": {
      "text/plain": [
       "245131.88"
      ]
     },
     "execution_count": 12,
     "metadata": {},
     "output_type": "execute_result"
    }
   ],
   "source": [
    "np.max(df['OvertimePay'])"
   ]
  },
  {
   "cell_type": "code",
   "execution_count": 13,
   "metadata": {},
   "outputs": [
    {
     "data": {
      "text/plain": [
       "OvertimePay    245131.88\n",
       "dtype: float64"
      ]
     },
     "execution_count": 13,
     "metadata": {},
     "output_type": "execute_result"
    }
   ],
   "source": [
    "df[['OvertimePay']].apply(np.max)"
   ]
  },
  {
   "cell_type": "markdown",
   "metadata": {},
   "source": [
    "What is the job title of JOSEPH DRISCOLL ? Note: Use all caps, otherwise you may get an answer that doesn't match up (there is also a lowercase Joseph Driscoll)."
   ]
  },
  {
   "cell_type": "code",
   "execution_count": 17,
   "metadata": {},
   "outputs": [
    {
     "data": {
      "text/plain": [
       "24    CAPTAIN, FIRE SUPPRESSION\n",
       "Name: JobTitle, dtype: object"
      ]
     },
     "execution_count": 17,
     "metadata": {},
     "output_type": "execute_result"
    }
   ],
   "source": [
    "df[df['EmployeeName']=='JOSEPH DRISCOLL']['JobTitle']"
   ]
  },
  {
   "cell_type": "markdown",
   "metadata": {},
   "source": [
    "How much does JOSEPH DRISCOLL make (including benefits)?"
   ]
  },
  {
   "cell_type": "code",
   "execution_count": 18,
   "metadata": {},
   "outputs": [
    {
     "data": {
      "text/plain": [
       "Index(['Id', 'EmployeeName', 'JobTitle', 'BasePay', 'OvertimePay', 'OtherPay',\n",
       "       'Benefits', 'TotalPay', 'TotalPayBenefits', 'Year', 'Notes', 'Agency',\n",
       "       'Status'],\n",
       "      dtype='object')"
      ]
     },
     "execution_count": 18,
     "metadata": {},
     "output_type": "execute_result"
    }
   ],
   "source": [
    "df.columns"
   ]
  },
  {
   "cell_type": "code",
   "execution_count": 19,
   "metadata": {},
   "outputs": [
    {
     "data": {
      "text/plain": [
       "24    270324.91\n",
       "Name: TotalPayBenefits, dtype: float64"
      ]
     },
     "execution_count": 19,
     "metadata": {},
     "output_type": "execute_result"
    }
   ],
   "source": [
    "df[df['EmployeeName']=='JOSEPH DRISCOLL']['TotalPayBenefits']"
   ]
  },
  {
   "cell_type": "markdown",
   "metadata": {},
   "source": [
    "What is the name of highest paid person (including benefits)?"
   ]
  },
  {
   "cell_type": "code",
   "execution_count": 22,
   "metadata": {
    "scrolled": true
   },
   "outputs": [
    {
     "data": {
      "text/plain": [
       "0    NATHANIEL FORD\n",
       "Name: EmployeeName, dtype: object"
      ]
     },
     "execution_count": 22,
     "metadata": {},
     "output_type": "execute_result"
    }
   ],
   "source": [
    "df[df['TotalPayBenefits']==df['TotalPayBenefits'].max()]['EmployeeName']"
   ]
  },
  {
   "cell_type": "code",
   "execution_count": 26,
   "metadata": {},
   "outputs": [
    {
     "data": {
      "text/plain": [
       "'NATHANIEL FORD'"
      ]
     },
     "execution_count": 26,
     "metadata": {},
     "output_type": "execute_result"
    }
   ],
   "source": [
    "idx=df['TotalPayBenefits'].idxmax() #최대값을 가진 데이터의 인덱스를 반환\n",
    "df.loc[idx]['EmployeeName'] #df.loc는 인덱스 단위로 데이터 선택"
   ]
  },
  {
   "cell_type": "markdown",
   "metadata": {},
   "source": [
    "What is the name of lowest paid person (including benefits)? Do you notice something strange about how much he or she is paid?"
   ]
  },
  {
   "cell_type": "code",
   "execution_count": 27,
   "metadata": {},
   "outputs": [
    {
     "data": {
      "text/plain": [
       "Id                               25343\n",
       "EmployeeName               SALLY LAMUS\n",
       "JobTitle            ELIGIBILITY WORKER\n",
       "BasePay                        46710.1\n",
       "OvertimePay                          0\n",
       "OtherPay                          1260\n",
       "Benefits                           NaN\n",
       "TotalPay                       47970.1\n",
       "TotalPayBenefits               47970.1\n",
       "Year                              2011\n",
       "Notes                              NaN\n",
       "Agency                   San Francisco\n",
       "Status                             NaN\n",
       "Name: 25342, dtype: object"
      ]
     },
     "execution_count": 27,
     "metadata": {},
     "output_type": "execute_result"
    }
   ],
   "source": [
    "idx=df['TotalPayBenefits'].idxmin() #loc기준 값으로 리턴될것이다.\n",
    "df.loc[idx] #iloc: 몇번째냐, #loc: a,b,c,이런 인덱스도 가능"
   ]
  },
  {
   "cell_type": "markdown",
   "metadata": {},
   "source": [
    "직종별 평균 pay를 계산해 보시오"
   ]
  },
  {
   "cell_type": "code",
   "execution_count": 29,
   "metadata": {},
   "outputs": [
    {
     "data": {
      "text/plain": [
       "JobTitle\n",
       "ACCOUNT CLERK                                         50786.009643\n",
       "ACCOUNTANT                                            63564.520000\n",
       "ACCOUNTANT INTERN                                     54047.704375\n",
       "ACUPUNCTURIST                                         67594.400000\n",
       "ADMINISTRATIVE ANALYST                                70312.108889\n",
       "ADMINISTRATIVE ANALYST II                             75585.820000\n",
       "ADMINISTRATIVE ANALYST III                            92698.515000\n",
       "ADMINISTRATIVE ENGINEER                              127961.430000\n",
       "ADMINISTRATIVE SERVICES MANAGER                       77015.580000\n",
       "ADMINISTRATOR, SFGH MEDICAL CENTER                   257124.440000\n",
       "AFFIRMATIVE ACTION SPECIALIST                         79082.280000\n",
       "AGRICULTURAL INSPECTOR                                53586.100000\n",
       "AIRPORT COMMUNICATIONS OPERATOR                       86240.102500\n",
       "AIRPORT COMMUNICATIONS SUPERVISOR                     88180.000000\n",
       "AIRPORT ECONOMIC PLANNER                             108264.821538\n",
       "AIRPORT ELECTRICIAN                                  108707.828235\n",
       "AIRPORT ELECTRICIAN SUPERVISOR                       117088.760000\n",
       "AIRPORT EMERGENCY PLANNING COORDINATOR                75865.935000\n",
       "AIRPORT MECHANICAL MAINTENANCE SUPERVISOR            128534.170000\n",
       "AIRPORT NOISE ABATEMENT SPECIALIST                    62636.850000\n",
       "AIRPORT OPERATIONS SUPERVISOR                         94913.980000\n",
       "AIRPORT POLICE SERVICES AIDE                          66238.791046\n",
       "AIRPORT PROPERTY SPECIALIST I                         86407.861818\n",
       "AIRPORT SAFETY OFFICER                                83393.984706\n",
       "ANESTHETIST                                          182831.827857\n",
       "ANIMAL CARE ASSISTANT SUPERVISOR                      56298.620000\n",
       "ANIMAL CARE ATTENDANT                                 54127.861111\n",
       "ANIMAL CARE SUPERVISOR                                73618.870000\n",
       "ANIMAL CONTROL OFFICER                                60925.394444\n",
       "ANIMAL KEEPER                                         62647.860000\n",
       "                                                         ...      \n",
       "VICTIM & WITNESS TECHNICIAN                           51311.860000\n",
       "VICTIM/WITNESS INVESTIGATOR I                         59323.226429\n",
       "VICTIM/WITNESS INVESTIGATOR II                        67967.568571\n",
       "VICTIM/WITNESS INVESTIGATOR III                       78487.968182\n",
       "VOLUNTEER/OUTREACH COORDINATOR                        65830.685714\n",
       "WASTEWATER CONTROL INSPECTOR                          81344.542222\n",
       "WATER AND POWER MAINTENANCE SUPERVISOR I             100161.546667\n",
       "WATER CONSERVATION ADMINISTRATOR                     100557.762500\n",
       "WATER CONSTRUCTION AND MAINTENANCE SUPERINTENDENT    150352.685000\n",
       "WATER METER REPAIRER                                  71752.033333\n",
       "WATER OPERATIONS ANALYST                             107587.205455\n",
       "WATER QUALITY TECHNICIAN I/II                         68866.077692\n",
       "WATER QUALITY TECHNICIAN III                          70851.785000\n",
       "WATER SERVICE INSPECTOR                               89505.428889\n",
       "WATERSHED FORESTER MANAGER                            92877.545000\n",
       "WATERSHED KEEPER                                      64052.471905\n",
       "WATERSHED KEEPER SUPERVISOR                           70496.996667\n",
       "WELDER                                               103580.763750\n",
       "WELFARE FRAUD INVESTIGATOR                            85980.607500\n",
       "WHARFINGER I                                          65259.480000\n",
       "WHARFINGER II                                         72791.780000\n",
       "WINDOW CLEANER                                        60352.859375\n",
       "WINDOW CLEANER SUPERVISOR                             68160.800000\n",
       "WIRE ROPE CABLE MAINTENANCE MECHANIC                 145073.492500\n",
       "WIRE ROPE CABLE MAINTENANCE SUPERVISOR               199628.970000\n",
       "WORKER'S COMPENSATION ADJUSTER                        73943.958095\n",
       "WORKER'S COMPENSATION SUPERVISOR I                    91020.726000\n",
       "X-RAY LABORATORY AIDE                                 62281.220500\n",
       "YOUTH COMMISSION ADVISOR, BOARD OF SUPERVISORS        53632.870000\n",
       "ZOO CURATOR                                           66686.560000\n",
       "Name: TotalPayBenefits, Length: 980, dtype: float64"
      ]
     },
     "execution_count": 29,
     "metadata": {},
     "output_type": "execute_result"
    }
   ],
   "source": [
    "df.groupby('JobTitle')['TotalPayBenefits'].mean()"
   ]
  },
  {
   "cell_type": "code",
   "execution_count": 31,
   "metadata": {},
   "outputs": [
    {
     "data": {
      "text/plain": [
       "JobTitle\n",
       "HOUSEKEEPER/FOOD SERVICE CLEANER                       48222.653333\n",
       "PUBLIC SERVICE AIDE-ASSOCIATE TO PROFESSIONALS         48228.530000\n",
       "CLAIMS PROCESS CLERK                                   48591.480000\n",
       "INSTITUTION UTILITY WORKER                             48600.095000\n",
       "SWIMMING INSTRUCTOR/POOL LIFEGUARD                     48634.028571\n",
       "SECRETARY,JUVENILE PROBATION COMMISSION                48840.110000\n",
       "ASSOCIATE MUSEUM REGISTRAR                             49092.980000\n",
       "MUSEUM PREPARATOR                                      49268.373333\n",
       "ASSESSMENT CLERK                                       49746.168182\n",
       "BOOK REPAIRER                                          49902.870000\n",
       "CLERK TYPIST                                           50035.459681\n",
       "SENIOR FOOD SERVICE WORKER                             50466.680000\n",
       "FARMER                                                 50728.440000\n",
       "TELEPHONE OPERATOR                                     50728.663333\n",
       "LABORATORY HELPER                                      50766.400000\n",
       "ACCOUNT CLERK                                          50786.009643\n",
       "CASHIER I                                              50900.570000\n",
       "REAL PROPERTY APPRAISER TRAINEE                        50942.020000\n",
       "SPECIAL ASSISTANT III                                  50980.070000\n",
       "LEGAL PROCESS CLERK                                    51102.902000\n",
       "VICTIM & WITNESS TECHNICIAN                            51311.860000\n",
       "PERSONNEL CLERK                                        51356.834286\n",
       "SIGNAL AND SYSTEMS ENGINEER                            51450.120000\n",
       "SHADE AND DRAPERY WORKER                               51640.560000\n",
       "BRAILLIST                                              51674.510000\n",
       "DIETETIC TECHNICIAN                                    51683.850000\n",
       "PLANNER TECHNICIAN                                     51829.840000\n",
       "SHERIFF'S CADET                                        51830.604000\n",
       "HEALTH WORKER I                                        52124.641429\n",
       "CUSTODIAN                                              52339.267734\n",
       "                                                          ...      \n",
       "HUMAN RESOURCES DIRECTOR                              196377.990000\n",
       "SHERIFF                                               197233.840000\n",
       "PUBLIC DEFENDER                                       198027.440000\n",
       "WIRE ROPE CABLE MAINTENANCE SUPERVISOR                199628.970000\n",
       "SPECIAL ASSISTANT XXII                                199765.740000\n",
       "DEPUTY DIRECTOR II - MUNICIPAL TRANSPORTATION AG      200921.488000\n",
       "ASSISTANT CHIEF OF DEPARTMENT, (FIRE DEPARTMENT)      203427.850000\n",
       "COMMANDER III, (POLICE DEPARTMENT)                    205136.507143\n",
       "DEPARTMENT HEAD IV                                    206610.332500\n",
       "CAPTAIN, BUREAU OF FIRE PREVENTION AND PUBLIC SAFE    206704.630000\n",
       "CITY ATTORNEY                                         208243.120000\n",
       "CAPTAIN III (POLICE DEPARTMENT)                       211783.893243\n",
       "ASSISTANT MEDICAL EXAMINER                            212793.172000\n",
       "CONFIDENTIAL CHIEF ATTORNEY II (CIVIL & CRIMINAL)     214988.680000\n",
       "FORENSIC TOXICOLOGIST                                 215318.200000\n",
       "NURSING SUPERVISOR PSYCHIATRIC                        216598.635000\n",
       "BATTALION CHIEF, (FIRE DEPARTMENT)                    221418.313409\n",
       "ASSISTANT DEPUTY CHIEF II                             228724.506000\n",
       "PORT DIRECTOR                                         233357.280000\n",
       "DEPARTMENT HEAD V                                     233834.037143\n",
       "DISTRICT ATTORNEY                                     234848.110000\n",
       "MAYOR                                                 249375.020000\n",
       "DEPUTY CHIEF III (POLICE DEPARTMENT)                  250026.488000\n",
       "ADMINISTRATOR, SFGH MEDICAL CENTER                    257124.440000\n",
       "CHIEF OF POLICE                                       267992.590000\n",
       "EXECUTIVE CONTRACT EMPLOYEE                           277438.840000\n",
       "DEPUTY CHIEF OF DEPARTMENT,(FIRE DEPARTMENT)          279359.560000\n",
       "CHIEF OF DEPARTMENT, (FIRE DEPARTMENT)                302377.730000\n",
       "DEPUTY DIRECTOR OF INVESTMENTS                        307899.460000\n",
       "GENERAL MANAGER-METROPOLITAN TRANSIT AUTHORITY        399211.275000\n",
       "Name: TotalPayBenefits, Length: 980, dtype: float64"
      ]
     },
     "execution_count": 31,
     "metadata": {},
     "output_type": "execute_result"
    }
   ],
   "source": [
    "df.groupby('JobTitle')['TotalPayBenefits'].mean().sort_values()"
   ]
  },
  {
   "cell_type": "markdown",
   "metadata": {},
   "source": [
    "How many unique job titles are there?"
   ]
  },
  {
   "cell_type": "code",
   "execution_count": 33,
   "metadata": {},
   "outputs": [
    {
     "data": {
      "text/plain": [
       "980"
      ]
     },
     "execution_count": 33,
     "metadata": {},
     "output_type": "execute_result"
    }
   ],
   "source": [
    "len(df['JobTitle'].unique())"
   ]
  },
  {
   "cell_type": "markdown",
   "metadata": {},
   "source": [
    "What are the top 5 most common jobs?"
   ]
  },
  {
   "cell_type": "code",
   "execution_count": 39,
   "metadata": {},
   "outputs": [
    {
     "data": {
      "text/plain": [
       "TRANSIT OPERATOR      1681\n",
       "REGISTERED NURSE      1129\n",
       "FIREFIGHTER            780\n",
       "POLICE OFFICER III     751\n",
       "DEPUTY SHERIFF         660\n",
       "Name: JobTitle, dtype: int64"
      ]
     },
     "execution_count": 39,
     "metadata": {},
     "output_type": "execute_result"
    }
   ],
   "source": [
    "df['JobTitle'].value_counts().sort_values(ascending=False).iloc[:5]"
   ]
  },
  {
   "cell_type": "markdown",
   "metadata": {},
   "source": [
    "How many Job Titles were represented by only one person in 2011? (e.g. Job Titles with only one occurence in 2011?)"
   ]
  },
  {
   "cell_type": "code",
   "execution_count": 43,
   "metadata": {},
   "outputs": [
    {
     "data": {
      "text/plain": [
       "DEPUTY SEALER OF WEIGHTS AND MEASURES                 1\n",
       "FORENSIC TOXICOLOGIST                                 1\n",
       "DIRECTOR, EMPLOYEE RELATIONS DIVISION                 1\n",
       "ACUPUNCTURIST                                         1\n",
       "ASST. CHIEF PROBATION OFFICER-JUVENILE PROBATION      1\n",
       "ATTORNEY FOR THE PUBLIC ADMINISTRATOR                 1\n",
       "PRINCIPAL INVESTIGATOR, TAX COLLECTOR                 1\n",
       "SECRETARY, COMMISSION ON THE ENVIRONMENT              1\n",
       "ASSISTANT INSPECTOR (POLICE DEPARTMENT)               1\n",
       "CHIEF OF DEPARTMENT, (FIRE DEPARTMENT)                1\n",
       "CHIEF ELECTRICAL INSPECTOR                            1\n",
       "CONFIDENTIAL SECRETARY TO DISTRICT ATTORNEY           1\n",
       "ORNAMENTAL IRON WORKER SUPERVISOR I                   1\n",
       "SENIOR MATERIALS AND SUPPLIES SUPERVISOR              1\n",
       "FIELD SERVICES ASSISTANT SUPERVISOR                   1\n",
       "CHIEF PLUMBING INSPECTOR                              1\n",
       "ASSISTANT LAW LIBRARIAN                               1\n",
       "CHIEF DEPUTY ADULT PROBATION OFFICER                  1\n",
       "TREASURER                                             1\n",
       "DIRECTOR, PROBATE                                     1\n",
       "TRIAL DELAY REDUCTION COORDINATOR                     1\n",
       "MEDIA PRODUCTION SUPERVISOR                           1\n",
       "SECRETARY TO THE PRESIDING JUDGE                      1\n",
       "ZOO CURATOR                                           1\n",
       "LEGISLATIVE CALENDAR CLERK                            1\n",
       "PLUMBER SUPERVISOR II                                 1\n",
       "SENIOR CLAIMS INVESTIGATOR                            1\n",
       "SENIOR PLAN CHECKER                                   1\n",
       "CONFIDENTIAL SECRETARY CITY ATTORNEY                  1\n",
       "DISTRICT ATTORNEY                                     1\n",
       "                                                     ..\n",
       "LOCKSMITH SUPERVISOR I                                1\n",
       "AUDIOLOGIST                                           1\n",
       "BRAILLIST                                             1\n",
       "SOFT FLOOR COVERER                                    1\n",
       "POWER PLANT SUPERVISOR I                              1\n",
       "COURT ADMINISTRATIVE SECRETARY                        1\n",
       "SHADE AND DRAPERY WORKER                              1\n",
       "HEAVY EQUIPMENT OPERATIONS ASSISTANT SUPERVISOR       1\n",
       "EMPLOYMENT AND TRAINING SPECIALIST VI                 1\n",
       "PRINCIPAL PARTS STOREKEEPER                           1\n",
       "BOARD SECRETARY - MUNICIPAL TRANSPORTATION AGENC      1\n",
       "SECRETARY, LIBRARY COMMISSION                         1\n",
       "SENIOR OPERATIONS MANAGER                             1\n",
       "COURT AD RESOLUTION COORDINATOR                       1\n",
       "CHIEF ADULT PROBATION OFFICER                         1\n",
       "TRACK MAINTENANCE SUPERINTENDENT,MUNICIPAL RAILWAY    1\n",
       "POLICE SERVICES AIDE                                  1\n",
       "CAPTAIN, BUREAU OF FIRE PREVENTION AND PUBLIC SAFE    1\n",
       "SENIOR LIGHT RAIL VEHICLE EQUIPMENT ENGINEER          1\n",
       "ASSOCIATE MUSEUM REGISTRAR                            1\n",
       "COURT CLERK                                           1\n",
       "DISABILITY ACCESS COORDINATOR                         1\n",
       "MEDIA/SECURITY SYSTEMS SUPERVISOR                     1\n",
       "SENIOR PSYCHIATRIC ORDERLY                            1\n",
       "CLAIMS PROCESS CLERK                                  1\n",
       "PUBLIC SERVICE AIDE-ASSOCIATE TO PROFESSIONALS        1\n",
       "RESPIRATORY CARE PRACTITIONER                         1\n",
       "ASSOCIATE HUMAN RESOURCES ANALYST                     1\n",
       "HEAD PHOTOGRAPHER                                     1\n",
       "HUMAN RESOURCES DIRECTOR                              1\n",
       "Name: JobTitle, Length: 214, dtype: int64"
      ]
     },
     "execution_count": 43,
     "metadata": {},
     "output_type": "execute_result"
    }
   ],
   "source": [
    "JobCount=df['JobTitle'].value_counts()\n",
    "JobCount[JobCount<2]"
   ]
  },
  {
   "cell_type": "markdown",
   "metadata": {},
   "source": [
    "How many people have the word Chief in their job title? (This is pretty tricky)"
   ]
  },
  {
   "cell_type": "code",
   "execution_count": 43,
   "metadata": {},
   "outputs": [
    {
     "data": {
      "text/plain": [
       "2"
      ]
     },
     "execution_count": 43,
     "metadata": {},
     "output_type": "execute_result"
    }
   ],
   "source": [
    "def checkChief(x):\n",
    "    result=0\n",
    "    for i in x:\n",
    "        if i.find('CHIEF')>-1:\n",
    "            result=result+1\n",
    "    return result\n",
    "\n",
    "checkChief(['CHIEF','CHIEFS', 'CHHHHF'])"
   ]
  },
  {
   "cell_type": "code",
   "execution_count": 44,
   "metadata": {},
   "outputs": [
    {
     "data": {
      "text/plain": [
       "JobTitle    193\n",
       "dtype: int64"
      ]
     },
     "execution_count": 44,
     "metadata": {},
     "output_type": "execute_result"
    }
   ],
   "source": [
    "df[['JobTitle']].apply(checkChief)"
   ]
  },
  {
   "cell_type": "markdown",
   "metadata": {},
   "source": [
    "Bonus: Is there a correlation between length of the Job Title string and Salary?"
   ]
  },
  {
   "cell_type": "code",
   "execution_count": 64,
   "metadata": {},
   "outputs": [
    {
     "data": {
      "text/plain": [
       "15"
      ]
     },
     "execution_count": 64,
     "metadata": {},
     "output_type": "execute_result"
    }
   ],
   "source": [
    "def myLength(x):\n",
    "    return len(x)\n",
    "myLength('Job Title Title')"
   ]
  },
  {
   "cell_type": "code",
   "execution_count": 66,
   "metadata": {},
   "outputs": [
    {
     "data": {
      "text/html": [
       "<div>\n",
       "<style scoped>\n",
       "    .dataframe tbody tr th:only-of-type {\n",
       "        vertical-align: middle;\n",
       "    }\n",
       "\n",
       "    .dataframe tbody tr th {\n",
       "        vertical-align: top;\n",
       "    }\n",
       "\n",
       "    .dataframe thead th {\n",
       "        text-align: right;\n",
       "    }\n",
       "</style>\n",
       "<table border=\"1\" class=\"dataframe\">\n",
       "  <thead>\n",
       "    <tr style=\"text-align: right;\">\n",
       "      <th></th>\n",
       "      <th>Id</th>\n",
       "      <th>EmployeeName</th>\n",
       "      <th>JobTitle</th>\n",
       "      <th>BasePay</th>\n",
       "      <th>OvertimePay</th>\n",
       "      <th>OtherPay</th>\n",
       "      <th>Benefits</th>\n",
       "      <th>TotalPay</th>\n",
       "      <th>TotalPayBenefits</th>\n",
       "      <th>Year</th>\n",
       "      <th>Notes</th>\n",
       "      <th>Agency</th>\n",
       "      <th>Status</th>\n",
       "      <th>JobTitleLength</th>\n",
       "    </tr>\n",
       "  </thead>\n",
       "  <tbody>\n",
       "    <tr>\n",
       "      <th>0</th>\n",
       "      <td>1</td>\n",
       "      <td>NATHANIEL FORD</td>\n",
       "      <td>GENERAL MANAGER-METROPOLITAN TRANSIT AUTHORITY</td>\n",
       "      <td>167411.18</td>\n",
       "      <td>0.00</td>\n",
       "      <td>400184.25</td>\n",
       "      <td>NaN</td>\n",
       "      <td>567595.43</td>\n",
       "      <td>567595.43</td>\n",
       "      <td>2011.0</td>\n",
       "      <td>NaN</td>\n",
       "      <td>San Francisco</td>\n",
       "      <td>NaN</td>\n",
       "      <td>46</td>\n",
       "    </tr>\n",
       "    <tr>\n",
       "      <th>1</th>\n",
       "      <td>2</td>\n",
       "      <td>GARY JIMENEZ</td>\n",
       "      <td>CAPTAIN III (POLICE DEPARTMENT)</td>\n",
       "      <td>155966.02</td>\n",
       "      <td>245131.88</td>\n",
       "      <td>137811.38</td>\n",
       "      <td>NaN</td>\n",
       "      <td>538909.28</td>\n",
       "      <td>538909.28</td>\n",
       "      <td>2011.0</td>\n",
       "      <td>NaN</td>\n",
       "      <td>San Francisco</td>\n",
       "      <td>NaN</td>\n",
       "      <td>31</td>\n",
       "    </tr>\n",
       "    <tr>\n",
       "      <th>2</th>\n",
       "      <td>3</td>\n",
       "      <td>ALBERT PARDINI</td>\n",
       "      <td>CAPTAIN III (POLICE DEPARTMENT)</td>\n",
       "      <td>212739.13</td>\n",
       "      <td>106088.18</td>\n",
       "      <td>16452.60</td>\n",
       "      <td>NaN</td>\n",
       "      <td>335279.91</td>\n",
       "      <td>335279.91</td>\n",
       "      <td>2011.0</td>\n",
       "      <td>NaN</td>\n",
       "      <td>San Francisco</td>\n",
       "      <td>NaN</td>\n",
       "      <td>31</td>\n",
       "    </tr>\n",
       "    <tr>\n",
       "      <th>3</th>\n",
       "      <td>4</td>\n",
       "      <td>CHRISTOPHER CHONG</td>\n",
       "      <td>WIRE ROPE CABLE MAINTENANCE MECHANIC</td>\n",
       "      <td>77916.00</td>\n",
       "      <td>56120.71</td>\n",
       "      <td>198306.90</td>\n",
       "      <td>NaN</td>\n",
       "      <td>332343.61</td>\n",
       "      <td>332343.61</td>\n",
       "      <td>2011.0</td>\n",
       "      <td>NaN</td>\n",
       "      <td>San Francisco</td>\n",
       "      <td>NaN</td>\n",
       "      <td>36</td>\n",
       "    </tr>\n",
       "    <tr>\n",
       "      <th>4</th>\n",
       "      <td>5</td>\n",
       "      <td>PATRICK GARDNER</td>\n",
       "      <td>DEPUTY CHIEF OF DEPARTMENT,(FIRE DEPARTMENT)</td>\n",
       "      <td>134401.60</td>\n",
       "      <td>9737.00</td>\n",
       "      <td>182234.59</td>\n",
       "      <td>NaN</td>\n",
       "      <td>326373.19</td>\n",
       "      <td>326373.19</td>\n",
       "      <td>2011.0</td>\n",
       "      <td>NaN</td>\n",
       "      <td>San Francisco</td>\n",
       "      <td>NaN</td>\n",
       "      <td>44</td>\n",
       "    </tr>\n",
       "  </tbody>\n",
       "</table>\n",
       "</div>"
      ],
      "text/plain": [
       "   Id       EmployeeName                                        JobTitle  \\\n",
       "0   1     NATHANIEL FORD  GENERAL MANAGER-METROPOLITAN TRANSIT AUTHORITY   \n",
       "1   2       GARY JIMENEZ                 CAPTAIN III (POLICE DEPARTMENT)   \n",
       "2   3     ALBERT PARDINI                 CAPTAIN III (POLICE DEPARTMENT)   \n",
       "3   4  CHRISTOPHER CHONG            WIRE ROPE CABLE MAINTENANCE MECHANIC   \n",
       "4   5    PATRICK GARDNER    DEPUTY CHIEF OF DEPARTMENT,(FIRE DEPARTMENT)   \n",
       "\n",
       "     BasePay  OvertimePay   OtherPay  Benefits   TotalPay  TotalPayBenefits  \\\n",
       "0  167411.18         0.00  400184.25       NaN  567595.43         567595.43   \n",
       "1  155966.02    245131.88  137811.38       NaN  538909.28         538909.28   \n",
       "2  212739.13    106088.18   16452.60       NaN  335279.91         335279.91   \n",
       "3   77916.00     56120.71  198306.90       NaN  332343.61         332343.61   \n",
       "4  134401.60      9737.00  182234.59       NaN  326373.19         326373.19   \n",
       "\n",
       "     Year  Notes         Agency  Status  JobTitleLength  \n",
       "0  2011.0    NaN  San Francisco     NaN              46  \n",
       "1  2011.0    NaN  San Francisco     NaN              31  \n",
       "2  2011.0    NaN  San Francisco     NaN              31  \n",
       "3  2011.0    NaN  San Francisco     NaN              36  \n",
       "4  2011.0    NaN  San Francisco     NaN              44  "
      ]
     },
     "execution_count": 66,
     "metadata": {},
     "output_type": "execute_result"
    }
   ],
   "source": [
    "df['JobTitleLength']=df['JobTitle'].transform(myLength)\n",
    "df.head(5)"
   ]
  },
  {
   "cell_type": "code",
   "execution_count": 68,
   "metadata": {},
   "outputs": [
    {
     "data": {
      "text/plain": [
       "array([[1.        , 0.10121018],\n",
       "       [0.10121018, 1.        ]])"
      ]
     },
     "execution_count": 68,
     "metadata": {},
     "output_type": "execute_result"
    }
   ],
   "source": [
    "np.corrcoef(df['JobTitleLength'],df['BasePay'])"
   ]
  }
 ],
 "metadata": {
  "kernelspec": {
   "display_name": "Python 3",
   "language": "python",
   "name": "python3"
  },
  "language_info": {
   "codemirror_mode": {
    "name": "ipython",
    "version": 3
   },
   "file_extension": ".py",
   "mimetype": "text/x-python",
   "name": "python",
   "nbconvert_exporter": "python",
   "pygments_lexer": "ipython3",
   "version": "3.6.7"
  }
 },
 "nbformat": 4,
 "nbformat_minor": 1
}
