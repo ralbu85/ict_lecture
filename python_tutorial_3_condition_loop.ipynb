{
 "cells": [
  {
   "cell_type": "markdown",
   "metadata": {},
   "source": [
    "# 제어문\n",
    "<p> 프로그래밍을 집을 짓는일에 비유하자면, 지금까지 배웠던 변수들은 집을 짓는 재료에 해당한다. 우리는 집을 짓는 다양한 재료들과 재료를 사용하는 법을 지금까지 살펴보았다. 또 다른 중요한 일은 재료들을 조합하여 뼈대와 구조를 이루어나가는 일이다. 지금부터 배울 제어문은 프로그램의 뼈대와 구조를 이뤄나가는 핵심사항이다. </p>\n",
    "<p> 프로그램은 기본적으로 변수를 계산해 나가는 과정이다. 이 과정에서 제어문은 프로그램의 논리적 흐름을 통제하는데, 변수 계산과정을 조건에 맞추어 분기하거나, 반복하는 과정을 도와준다. 따라서 제어문은 프로그램의 흐름을 통제하는 핵심적인 수단이라고 볼 수 있겠다. 파이썬에서 다루어지는 제어문은 3가지다. \n",
    "    <ol>\n",
    "        <li> if: 조건에 따라서 프로그램의 흐름을 분기 </li>\n",
    "        <li> while: (조건을 만족하는 한) 프로그램을 계속 반복 </li>\n",
    "        <li> for: (지정된 횟수만큼) 프로그램을 반복 </li>\n",
    "    </ol>\n",
    "</p>\n",
    "\n",
    "## 1. if 문\n",
    "<p> if문은 조건에 따라 계산과정을 분기해야 할때 사용된다. 다음을 살펴보자. </p>\n",
    "<blockquote> 돈이 만원 이상 있으면 택시를 타고, 없으면 걸어간다 </blockquote>\n",
    "<p> 위 같은 상황을 파이썬으로 다음과 같이 프로그래밍할 수 있다 </p>\n"
   ]
  },
  {
   "cell_type": "markdown",
   "metadata": {},
   "source": [
    "### if문의 기본구조\n",
    "다음은 if와 else를 이용한 조건문의 기본 구조이다.\n",
    "<blockquote>\n",
    "if 조건문:<br>\n",
    "&emsp;수행문장1<br>\n",
    "&emsp;수행문장2<br>\n",
    "else:<br>\n",
    "&emsp;수행문장1<br>\n",
    "&emsp;수행문장2<br>\n",
    "</blockquote>\n",
    "<p>\n",
    "첫번째로 <q>if 조건문:</q> 부분은 만족해야할 조건을 쓰는 공간이다. 조건을 테스트하여 True 값이면 실행하고 False 값이면 실행하지 않는다. (참고: 지난시간에 조건연산의 결과로 True나 False 두개의 값을 갖는 bool형 변수가 생성된다고 했었다.)</p> <br>\n",
    "두번재로 조건을 만족하는 경우 실행될 <q>코드블럭</q>을 써야한다. 코드블럭을 형성하기 위해서는 탭키로 들여쓰기(indentation)을 해야한다고 했었다. 위의 그림에서 보면 수행문장 1과 수행문장 2가 함께 들여쓰기 되어있으므로 이 두줄이 조건을 만족한 경우 함께 실행된다는 것이다. </p>\n",
    "<br>\n",
    "<p> 다음 예제를 살펴보자. </p>    "
   ]
  },
  {
   "cell_type": "code",
   "execution_count": 4,
   "metadata": {},
   "outputs": [
    {
     "name": "stdout",
     "output_type": "stream",
     "text": [
      "걸어가라\n"
     ]
    }
   ],
   "source": [
    "money=9000\n",
    "if money>10000:\n",
    "    print \"택시를 타라\"    \n",
    "else:\n",
    "    print \"걸어가라\"\n",
    "    "
   ]
  },
  {
   "cell_type": "markdown",
   "metadata": {},
   "source": [
    "조건을 만족하지 않게 변수의 값을 바꾸어보고 어떻게 실행되는지 확인하라."
   ]
  },
  {
   "cell_type": "markdown",
   "metadata": {},
   "source": [
    "### and, or, not\n",
    "<p> True나 False같은 Bool형 변수들을 연산하는 연산자로 and와 or이 있었다. 두 개 이상의 참거짓을 비교하는데 사용되며, if문에서 매우 빈번히 사용된다. 예를들면 다음의 예시를 살펴보자. </p>\n",
    "<blockquote> 돈이 10000원 이상 있거나 카드가 있다면 택시를 타고 그렇지 않다면 걸어가라. </blockquote>"
   ]
  },
  {
   "cell_type": "code",
   "execution_count": 2,
   "metadata": {},
   "outputs": [
    {
     "name": "stdout",
     "output_type": "stream",
     "text": [
      "ride taxi\n"
     ]
    }
   ],
   "source": [
    "money=9000\n",
    "card=1\n",
    "if money >= 10000 or card:\n",
    "    print(\"ride taxi\")\n",
    "else:\n",
    "    print(\"walk\")"
   ]
  },
  {
   "cell_type": "markdown",
   "metadata": {},
   "source": [
    "<p>이처럼 두개 이상의 조건이 있고, 이를 이용하여 조건문을 활용하고 싶을 때에는 and나 or을 사용하라.</p>"
   ]
  },
  {
   "cell_type": "markdown",
   "metadata": {},
   "source": [
    "### x in list, x not in list\n",
    "<p>연속형 변수(list, dictionary)에서 특정 값이 들어있는지 확인하는 변수를 파이썬에서는 매우 직관적인 구문으로 지원한다. </p>\n",
    "<ul>\n",
    "    <li> x in 리스트 </li>\n",
    "    <li> x in 튜플 </li>\n",
    "    <li> x in 문자열</li>    \n",
    "</ul>"
   ]
  },
  {
   "cell_type": "code",
   "execution_count": 4,
   "metadata": {},
   "outputs": [
    {
     "data": {
      "text/plain": [
       "True"
      ]
     },
     "execution_count": 4,
     "metadata": {},
     "output_type": "execute_result"
    }
   ],
   "source": [
    "x = 2\n",
    "y = [1,2,4,5]\n",
    "x in y #2가 y라는 리스트 안에 존재하는가?"
   ]
  },
  {
   "cell_type": "code",
   "execution_count": 5,
   "metadata": {},
   "outputs": [
    {
     "data": {
      "text/plain": [
       "False"
      ]
     },
     "execution_count": 5,
     "metadata": {},
     "output_type": "execute_result"
    }
   ],
   "source": [
    "x not in y #2가 y라는 리스트 안에 존재하지 않는가?"
   ]
  },
  {
   "cell_type": "markdown",
   "metadata": {},
   "source": [
    "<p> 문자열에서도 마찬가지로 사용이 가능하다. </p>"
   ]
  },
  {
   "cell_type": "code",
   "execution_count": 6,
   "metadata": {},
   "outputs": [
    {
     "data": {
      "text/plain": [
       "True"
      ]
     },
     "execution_count": 6,
     "metadata": {},
     "output_type": "execute_result"
    }
   ],
   "source": [
    "'j' not in 'python'"
   ]
  },
  {
   "cell_type": "markdown",
   "metadata": {},
   "source": [
    "### 조건이 여러개 있을때는 elif 사용\n",
    "<p>c나 java에서 사용하는 else if를 파이썬에서는 줄여서 elif로 사용한다. elif는 여러개의 조건을 동시에 표현할때 유용하게 사용된다. 다음의 예를 살펴보자.</p>\n",
    "<blockquote>집에서 500m 이내에 있으면 걸어서 가고, 그 이상 떨어져 있는데 돈이 5000원 이상 있으면 택시를 타고, 그 이상 떨어져 있는데 돈이 없으면 걸어와라.</blockquote>\n",
    "<p>다음을 if와 else로 작성하면 다음과 같을 것이다.</p>"
   ]
  },
  {
   "cell_type": "code",
   "execution_count": 11,
   "metadata": {},
   "outputs": [
    {
     "name": "stdout",
     "output_type": "stream",
     "text": [
      "walk!\n"
     ]
    }
   ],
   "source": [
    "money=3000\n",
    "distance=600\n",
    "if distance<=500:\n",
    "    print \"walk!\"\n",
    "else:\n",
    "    if money>=5000:\n",
    "        print \"ride taxi\"\n",
    "    else:\n",
    "        print \"walk!\""
   ]
  },
  {
   "cell_type": "markdown",
   "metadata": {},
   "source": [
    "<p>파이썬에서는 else if를 줄여서 elif라는 구문을 제공한다. 다음과 같이 사용할수 있다. </p>"
   ]
  },
  {
   "cell_type": "code",
   "execution_count": 9,
   "metadata": {},
   "outputs": [
    {
     "name": "stdout",
     "output_type": "stream",
     "text": [
      "walk!\n"
     ]
    }
   ],
   "source": [
    "money=3000\n",
    "distance=600\n",
    "if distance<=500:\n",
    "    print \"walk!\"\n",
    "elif money>=5000:\n",
    "    print \"ride taxi\"\n",
    "else:\n",
    "    print \"walk!\""
   ]
  },
  {
   "cell_type": "markdown",
   "metadata": {},
   "source": [
    "## 2. while문"
   ]
  },
  {
   "cell_type": "markdown",
   "metadata": {},
   "source": [
    "<p> 조건문과 마찬가지로 반복문은 프로그램의 뼈대를 구성하는 가장 중요한 요소중 하나이다. 반드시 숙지해야 한다. while문은 조건문이 참인 동안에 while문 아래에 속하는 문장들이 반복해서 수행된다. 열번직어 안넘어가는 나무 없다라는 속담을 파이썬 프로그램으로 만든다면 다음과 같을 것이다.</p>"
   ]
  },
  {
   "cell_type": "code",
   "execution_count": 14,
   "metadata": {},
   "outputs": [
    {
     "name": "stdout",
     "output_type": "stream",
     "text": [
      "나무를 1번 찍었습니다.\n",
      "나무를 2번 찍었습니다.\n",
      "나무를 3번 찍었습니다.\n",
      "나무를 4번 찍었습니다.\n",
      "나무를 5번 찍었습니다.\n",
      "나무를 6번 찍었습니다.\n",
      "나무를 7번 찍었습니다.\n",
      "나무를 8번 찍었습니다.\n",
      "나무를 9번 찍었습니다.\n",
      "나무를 10번 찍었습니다.\n",
      "나무 넘어간드아\n"
     ]
    }
   ],
   "source": [
    "treeHit=0\n",
    "while treeHit<10:\n",
    "    treeHit=treeHit+1\n",
    "    print \"나무를 %d번 찍었습니다.\" % treeHit\n",
    "    if treeHit ==10:\n",
    "        print \"나무 넘어간드아\""
   ]
  },
  {
   "cell_type": "markdown",
   "metadata": {},
   "source": [
    "<p> 위의 예에서 while문의 조건문은 treeHit < 10 이다. 즉, treeHit가 10보다 작은 동안에 while문 안의 문장들을 계속 수행한다. whlie문 안의 문장을 보면 제일 먼저 treeHit = treeHit + 1로 treeHit 값이 계속 1씩 증가한다. 그리고 나무를 treeHit번만큼 찍었음을 알리는 문장을 출력하고 treeHit가 10이 되면 \"나무 넘어갑니다.\"라는 문장을 출력한다. 그러고 나면 treeHit < 10 이라는 조건문이 거짓이 되므로 while문을 빠져나가게 된다. </p>\n",
    "<br>\n",
    "<p>(※ treeHit = treeHit + 1 은 프로그래밍을 할 때 매우 자주 사용하는 기법이다. treeHit의 값을 1만큼씩 증가시킬 목적으로 사용되며, treeHit +=1 처럼 사용되기도 한다.)</p>\n",
    "<br>\n",
    "<p> 다음은 while문이 반복되는 과정을 순서대로 정리한 표이다. 이렇게 긴 과정을 소스 코드 단 5줄로 만들 수 있다니 놀랍지 않은가? </p>"
   ]
  },
  {
   "cell_type": "markdown",
   "metadata": {},
   "source": [
    "<table>\n",
    "<thead>\n",
    "<tr>\n",
    "<th>treeHit</th>\n",
    "<th>조건문</th>\n",
    "<th>조건판단</th>\n",
    "<th>수행하는 문장</th>\n",
    "<th>while문</th>\n",
    "</tr>\n",
    "</thead>\n",
    "<tbody>\n",
    "<tr>\n",
    "<td>0</td>\n",
    "<td>0  &lt; 10</td>\n",
    "<td>참</td>\n",
    "<td>나무를 1번 찍었습니다.</td>\n",
    "<td>반복</td>\n",
    "</tr>\n",
    "<tr>\n",
    "<td>1</td>\n",
    "<td>1  &lt; 10</td>\n",
    "<td>참</td>\n",
    "<td>나무를 2번 찍었습니다.</td>\n",
    "<td>반복</td>\n",
    "</tr>\n",
    "<tr>\n",
    "<td>2</td>\n",
    "<td>2  &lt; 10</td>\n",
    "<td>참</td>\n",
    "<td>나무를 3번 찍었습니다.</td>\n",
    "<td>반복</td>\n",
    "</tr>\n",
    "<tr>\n",
    "<td>3</td>\n",
    "<td>3  &lt; 10</td>\n",
    "<td>참</td>\n",
    "<td>나무를 4번 찍었습니다.</td>\n",
    "<td>반복</td>\n",
    "</tr>\n",
    "<tr>\n",
    "<td>4</td>\n",
    "<td>4  &lt; 10</td>\n",
    "<td>참</td>\n",
    "<td>나무를 5번 찍었습니다.</td>\n",
    "<td>반복</td>\n",
    "</tr>\n",
    "<tr>\n",
    "<td>5</td>\n",
    "<td>5  &lt; 10</td>\n",
    "<td>참</td>\n",
    "<td>나무를 6번 찍었습니다.</td>\n",
    "<td>반복</td>\n",
    "</tr>\n",
    "<tr>\n",
    "<td>6</td>\n",
    "<td>6  &lt; 10</td>\n",
    "<td>참</td>\n",
    "<td>나무를 7번 찍었습니다.</td>\n",
    "<td>반복</td>\n",
    "</tr>\n",
    "<tr>\n",
    "<td>7</td>\n",
    "<td>7  &lt; 10</td>\n",
    "<td>참</td>\n",
    "<td>나무를 8번 찍었습니다.</td>\n",
    "<td>반복</td>\n",
    "</tr>\n",
    "<tr>\n",
    "<td>8</td>\n",
    "<td>8  &lt; 10</td>\n",
    "<td>참</td>\n",
    "<td>나무를 9번 찍었습니다.</td>\n",
    "<td>반복</td>\n",
    "</tr>\n",
    "<tr>\n",
    "<td>9</td>\n",
    "<td>9  &lt; 10</td>\n",
    "<td>참</td>\n",
    "<td>나무를 10번 찍었습니다. 나무 넘어갑니다.</td>\n",
    "<td>반복</td>\n",
    "</tr>\n",
    "<tr>\n",
    "<td>10</td>\n",
    "<td>10 &lt; 10</td>\n",
    "<td>거짓</td>\n",
    "<td></td>\n",
    "<td>종료</td>\n",
    "</tr>\n",
    "</tbody>\n",
    "</table>"
   ]
  },
  {
   "cell_type": "markdown",
   "metadata": {},
   "source": [
    "### break: 루프 빠져나오기\n",
    "<p> 반복문 중간에 루프를 빠져나가고 싶을때에는 break를 사용한다. 다음의 예시를 살펴보자. </p>"
   ]
  },
  {
   "cell_type": "code",
   "execution_count": 6,
   "metadata": {},
   "outputs": [
    {
     "name": "stdout",
     "output_type": "stream",
     "text": [
      "64+Z7KCE7J2EIOuEo+ycvOyEuOyalDog\n",
      "300\n",
      "커피를 줍니다.\n",
      "남은 커피의 양은 4개 입니다.\n",
      "64+Z7KCE7J2EIOuEo+ycvOyEuOyalDog\n",
      "500\n",
      "잔돈은 200 입니다. 커피를 내보냅니다.\n",
      "남은 커피의 양은 3개 입니다.\n",
      "64+Z7KCE7J2EIOuEo+ycvOyEuOyalDog\n",
      "300\n",
      "커피를 줍니다.\n",
      "남은 커피의 양은 2개 입니다.\n",
      "64+Z7KCE7J2EIOuEo+ycvOyEuOyalDog\n",
      "300\n",
      "커피를 줍니다.\n",
      "남은 커피의 양은 1개 입니다.\n",
      "64+Z7KCE7J2EIOuEo+ycvOyEuOyalDog\n",
      "300\n",
      "커피를 줍니다.\n",
      "남은 커피의 양은 0개 입니다.\n",
      "커피가 다 팔렸습니다. 판매를 중지합니다!\n"
     ]
    }
   ],
   "source": [
    "### code this in the code editor\n",
    "# -*- coding:utf-8 -*-\n",
    "coffee = 5\n",
    "while True:\n",
    "    money = int(input(\"동전을 넣으세요: \"))\n",
    "    if money == 300:\n",
    "        coffee = coffee -1\n",
    "        print \"커피를 줍니다.\"\n",
    "        print \"남은 커피의 양은 %d개 입니다.\" % coffee        \n",
    "    elif money > 300:\n",
    "        coffee = coffee -1\n",
    "        print \"잔돈은 %d 입니다. 커피를 내보냅니다.\" % (money-300)\n",
    "        print \"남은 커피의 양은 %d개 입니다.\" % coffee        \n",
    "    else:\n",
    "        print \"돈을 다시 돌려주고 커피를 주지 않습니다.\"\n",
    "        print \"남은 커피의 양은 %d개 입니다.\" % coffee\n",
    "    if coffee==0: #커피가 다팔리면\n",
    "        print \"커피가 다 팔렸습니다. 판매를 중지합니다!\" \n",
    "        break; #루프를 종료하고 프로그램을 종료한다."
   ]
  },
  {
   "cell_type": "markdown",
   "metadata": {},
   "source": [
    "### continue: 루프의 맨 처음으로 돌아가기\n",
    "<p> 반복문 실행중 continue를 만나면 그 이후의 명령문을 실행하지 않고 루프의 맨 위로 올라간다. 주로 조건에 맞지 않는 경우 맨 처음으로 돌아갈때 continue를 활용한다. 다음의 예시를 살펴보자. </p>"
   ]
  },
  {
   "cell_type": "code",
   "execution_count": 3,
   "metadata": {},
   "outputs": [
    {
     "name": "stdout",
     "output_type": "stream",
     "text": [
      "1\n",
      "3\n",
      "5\n",
      "7\n",
      "9\n"
     ]
    }
   ],
   "source": [
    "a=0\n",
    "while a < 10:\n",
    "    a = a+1\n",
    "    if a % 2 == 0: continue\n",
    "    print a"
   ]
  },
  {
   "cell_type": "markdown",
   "metadata": {},
   "source": [
    "## 3. for문\n",
    "<p> for문의 기본적인 구조는 다음과 같다. </p>\n",
    "<blockquote>\n",
    "for 변수 in 리스트(또는 튜플, 문자열):<br>\n",
    "    &emsp; 수행할 문장1<br>\n",
    "    &emsp; 수행할 문장2<br>\n",
    "    &emsp; ...\n",
    "</blockquote>"
   ]
  },
  {
   "cell_type": "markdown",
   "metadata": {},
   "source": [
    "### 전형적인 for 문"
   ]
  },
  {
   "cell_type": "code",
   "execution_count": 8,
   "metadata": {},
   "outputs": [
    {
     "name": "stdout",
     "output_type": "stream",
     "text": [
      "one\n",
      "two\n",
      "three\n"
     ]
    }
   ],
   "source": [
    "test_list = ['one', 'two', 'three'] \n",
    "for i in test_list: \n",
    "    print i"
   ]
  },
  {
   "cell_type": "markdown",
   "metadata": {},
   "source": [
    "<p> 눈여겨 봐야 할 부분은 for문에서 선언한 i이다. for문은 리스트에 존재하는 값을 하나씩 참조하여 i라는 변수에 대입한다.  ['one', 'two', 'three']라는 리스트의 첫 번째 요소인 'one'이 먼저 i 변수에 대입된 후 print i라는 문장을 수행한다. 다음에 'two'라는 두 번째 요소가 i 변수에 대입된 후 print i 문장을 수행하고 리스트의 마지막 요소까지 이것을 반복한다. </p>"
   ]
  },
  {
   "cell_type": "markdown",
   "metadata": {},
   "source": [
    "### 다양한 for문의 사용"
   ]
  },
  {
   "cell_type": "code",
   "execution_count": 9,
   "metadata": {},
   "outputs": [
    {
     "name": "stdout",
     "output_type": "stream",
     "text": [
      "3\n",
      "7\n",
      "11\n"
     ]
    }
   ],
   "source": [
    "a = [(1,2), (3,4), (5,6)]\n",
    "for (first, last) in a:\n",
    "    print(first + last)"
   ]
  },
  {
   "cell_type": "markdown",
   "metadata": {},
   "source": [
    "<p> 마찬가지로 (first, last)에 대응하는 튜플의 요소들이 하나씩 반복되는 구조이다. 위의 예는 a 리스트의 요소값이 튜플이기 때문에 각각의 요소들이 자동으로 (first, last)라는 변수에 대입된다. </p>"
   ]
  },
  {
   "cell_type": "markdown",
   "metadata": {},
   "source": [
    "### for문의 응용"
   ]
  },
  {
   "cell_type": "code",
   "execution_count": 10,
   "metadata": {},
   "outputs": [
    {
     "name": "stdout",
     "output_type": "stream",
     "text": [
      "1번 학생은 합격입니다.\n",
      "2번 학생은 불합격입니다.\n",
      "3번 학생은 합격입니다.\n",
      "4번 학생은 불합격입니다.\n",
      "5번 학생은 합격입니다.\n"
     ]
    }
   ],
   "source": [
    "marks = [90, 25, 67, 45, 80]\n",
    "\n",
    "number = 0 \n",
    "for mark in marks: \n",
    "    number = number +1 \n",
    "    if mark >= 60: \n",
    "        print(\"%d번 학생은 합격입니다.\" % number)\n",
    "    else: \n",
    "        print(\"%d번 학생은 불합격입니다.\" % number)"
   ]
  },
  {
   "cell_type": "markdown",
   "metadata": {},
   "source": [
    "### range 함수\n",
    "<p> for문은 숫자 리스트를 자동으로 만들어 주는 range라는 함수와 함께 사용되는 경우가 많다. 다음은 range 함수의 간단한 사용법이다. range는 지정한 숫자까지 리스트를 자동으로 만들어 내주는 함수이다. </p>"
   ]
  },
  {
   "cell_type": "code",
   "execution_count": 16,
   "metadata": {},
   "outputs": [
    {
     "data": {
      "text/plain": [
       "[0, 1, 2, 3, 4, 5, 6, 7, 8, 9]"
      ]
     },
     "execution_count": 16,
     "metadata": {},
     "output_type": "execute_result"
    }
   ],
   "source": [
    "a=range(10) #기본적으로 0부터 시작한다.\n",
    "a"
   ]
  },
  {
   "cell_type": "code",
   "execution_count": 17,
   "metadata": {},
   "outputs": [
    {
     "data": {
      "text/plain": [
       "[0, 1, 2, 3, 4, 5, 6, 7, 8, 9]"
      ]
     },
     "execution_count": 17,
     "metadata": {},
     "output_type": "execute_result"
    }
   ],
   "source": [
    "a=range(0,10) #0에서 10까지 1씩 증가시키면서 리스트 생성\n",
    "a"
   ]
  },
  {
   "cell_type": "code",
   "execution_count": 21,
   "metadata": {},
   "outputs": [
    {
     "data": {
      "text/plain": [
       "[0, 2, 4, 6, 8]"
      ]
     },
     "execution_count": 21,
     "metadata": {},
     "output_type": "execute_result"
    }
   ],
   "source": [
    "a=range(0,10,2) #0에서 10까지 2씩 건너뛰면서 리스트 생성\n",
    "a"
   ]
  },
  {
   "cell_type": "markdown",
   "metadata": {},
   "source": [
    "<p>range 함수를 이용해서 1~10까지 합을 다음과 같이 쉽게 구할 수 있다.</p>"
   ]
  },
  {
   "cell_type": "code",
   "execution_count": 20,
   "metadata": {},
   "outputs": [
    {
     "data": {
      "text/plain": [
       "55"
      ]
     },
     "execution_count": 20,
     "metadata": {},
     "output_type": "execute_result"
    }
   ],
   "source": [
    "sum=0\n",
    "for i in range(0,11):\n",
    "    sum=sum+i\n",
    "sum"
   ]
  },
  {
   "cell_type": "markdown",
   "metadata": {},
   "source": [
    "<p>for와 range 함수를 이용하면 소스 코드 단 4줄만으로 구구단을 출력할 수 있다. 들여쓰기에 주의하며 입력해 보자.</p>"
   ]
  },
  {
   "cell_type": "code",
   "execution_count": 31,
   "metadata": {},
   "outputs": [
    {
     "name": "stdout",
     "output_type": "stream",
     "text": [
      "2*1=2\n",
      "2*2=4\n",
      "2*3=6\n",
      "2*4=8\n",
      "2*5=10\n",
      "2*6=12\n",
      "2*7=14\n",
      "2*8=16\n",
      "2*9=18\n",
      "3*1=3\n",
      "3*2=6\n",
      "3*3=9\n",
      "3*4=12\n",
      "3*5=15\n",
      "3*6=18\n",
      "3*7=21\n",
      "3*8=24\n",
      "3*9=27\n",
      "4*1=4\n",
      "4*2=8\n",
      "4*3=12\n",
      "4*4=16\n",
      "4*5=20\n",
      "4*6=24\n",
      "4*7=28\n",
      "4*8=32\n",
      "4*9=36\n",
      "5*1=5\n",
      "5*2=10\n",
      "5*3=15\n",
      "5*4=20\n",
      "5*5=25\n",
      "5*6=30\n",
      "5*7=35\n",
      "5*8=40\n",
      "5*9=45\n",
      "6*1=6\n",
      "6*2=12\n",
      "6*3=18\n",
      "6*4=24\n",
      "6*5=30\n",
      "6*6=36\n",
      "6*7=42\n",
      "6*8=48\n",
      "6*9=54\n",
      "7*1=7\n",
      "7*2=14\n",
      "7*3=21\n",
      "7*4=28\n",
      "7*5=35\n",
      "7*6=42\n",
      "7*7=49\n",
      "7*8=56\n",
      "7*9=63\n",
      "8*1=8\n",
      "8*2=16\n",
      "8*3=24\n",
      "8*4=32\n",
      "8*5=40\n",
      "8*6=48\n",
      "8*7=56\n",
      "8*8=64\n",
      "8*9=72\n",
      "9*1=9\n",
      "9*2=18\n",
      "9*3=27\n",
      "9*4=36\n",
      "9*5=45\n",
      "9*6=54\n",
      "9*7=63\n",
      "9*8=72\n",
      "9*9=81\n"
     ]
    }
   ],
   "source": [
    "for i in range(2,10): \n",
    "    for j in range(1,10): \n",
    "        print '%d*%d=%d' % (i,j,i*j)           "
   ]
  },
  {
   "cell_type": "markdown",
   "metadata": {},
   "source": [
    "### list comprehension\n",
    "<p> 작업의 결과물을 list에 저장해야 하는 경우가 많다. 파이썬은 리스트를 동적으로 갱신시키면서 저장하는 아주 직관적인 기능들을 제공하는데 다음의 패턴들이 매우 자주 사용된다. </p>"
   ]
  },
  {
   "cell_type": "code",
   "execution_count": 33,
   "metadata": {},
   "outputs": [
    {
     "data": {
      "text/plain": [
       "[3, 6, 9, 12]"
      ]
     },
     "execution_count": 33,
     "metadata": {},
     "output_type": "execute_result"
    }
   ],
   "source": [
    "a=[1,2,3,4]\n",
    "result=[] #빈 리스트 선언\n",
    "for i in a:\n",
    "    result.append(i*3) #list.append() 리스트의 값을 하나씩 추가시키는 함수\n",
    "result"
   ]
  },
  {
   "cell_type": "markdown",
   "metadata": {},
   "source": [
    "<p> 위 예제를 다음과 같이 매우 간단하게 표현할 수도 있다. 아래 예시처럼 list안에 for문을 포함하는 것응ㄹ list comprehension이라고 한다. </p>"
   ]
  },
  {
   "cell_type": "code",
   "execution_count": 34,
   "metadata": {},
   "outputs": [
    {
     "data": {
      "text/plain": [
       "[3, 6, 9, 12]"
      ]
     },
     "execution_count": 34,
     "metadata": {},
     "output_type": "execute_result"
    }
   ],
   "source": [
    "a=[1,2,3,4]\n",
    "result=[]\n",
    "result=[i*3 for i in a] # a안에 들어있는 모든 각각의 변수들을 하나씩 돌면서 3을 곱하라.\n",
    "result"
   ]
  },
  {
   "cell_type": "markdown",
   "metadata": {},
   "source": [
    "<p> 여기에 추가로 if까지 포함하여 계산할 수 있다. 예를들어 a 리스트 안에서 짝수만 곱하고 싶다면 다음과 같이 계산하면 된다. </p>"
   ]
  },
  {
   "cell_type": "code",
   "execution_count": 37,
   "metadata": {},
   "outputs": [
    {
     "data": {
      "text/plain": [
       "[6, 12]"
      ]
     },
     "execution_count": 37,
     "metadata": {},
     "output_type": "execute_result"
    }
   ],
   "source": [
    "a=[1,2,3,4]\n",
    "result=[]\n",
    "result=[i*3 for i in a if i%2==0]\n",
    "result"
   ]
  }
 ],
 "metadata": {
  "kernelspec": {
   "display_name": "Python 2",
   "language": "python",
   "name": "python2"
  },
  "language_info": {
   "codemirror_mode": {
    "name": "ipython",
    "version": 2
   },
   "file_extension": ".py",
   "mimetype": "text/x-python",
   "name": "python",
   "nbconvert_exporter": "python",
   "pygments_lexer": "ipython2",
   "version": "2.7.14"
  }
 },
 "nbformat": 4,
 "nbformat_minor": 2
}
